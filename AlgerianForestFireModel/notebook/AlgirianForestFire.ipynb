{
 "cells": [
  {
   "metadata": {},
   "cell_type": "markdown",
   "source": "# EDA and Model Training with Algerian Forest Fire Dataset",
   "id": "b9dd15ba0e96b463"
  },
  {
   "metadata": {
    "ExecuteTime": {
     "end_time": "2024-12-06T10:33:26.023681Z",
     "start_time": "2024-12-06T10:33:26.004889Z"
    }
   },
   "cell_type": "code",
   "source": [
    "import pandas as pd\n",
    "import numpy as np\n",
    "import matplotlib.pyplot as plt\n",
    "import seaborn as sns\n",
    "from IPython.core.pylabtools import figsize\n",
    "%matplotlib inline"
   ],
   "id": "c549fb5730c07403",
   "outputs": [],
   "execution_count": 3
  },
  {
   "metadata": {
    "ExecuteTime": {
     "end_time": "2024-12-06T10:33:26.377004Z",
     "start_time": "2024-12-06T10:33:26.366368Z"
    }
   },
   "cell_type": "code",
   "source": "df = pd.read_csv('Algerian_forest_fires_dataset_UPDATE.csv',header=1)",
   "id": "4fa531ce6a3e4759",
   "outputs": [],
   "execution_count": 4
  },
  {
   "metadata": {
    "ExecuteTime": {
     "end_time": "2024-12-06T10:33:26.664674Z",
     "start_time": "2024-12-06T10:33:26.651138Z"
    }
   },
   "cell_type": "code",
   "source": "df.head()",
   "id": "8111ab7082dbf43f",
   "outputs": [
    {
     "data": {
      "text/plain": [
       "  day month  year Temperature  RH  Ws Rain   FFMC  DMC    DC  ISI  BUI  FWI  \\\n",
       "0  01    06  2012          29  57  18     0  65.7  3.4   7.6  1.3  3.4  0.5   \n",
       "1  02    06  2012          29  61  13   1.3  64.4  4.1   7.6    1  3.9  0.4   \n",
       "2  03    06  2012          26  82  22  13.1  47.1  2.5   7.1  0.3  2.7  0.1   \n",
       "3  04    06  2012          25  89  13   2.5  28.6  1.3   6.9    0  1.7    0   \n",
       "4  05    06  2012          27  77  16     0  64.8    3  14.2  1.2  3.9  0.5   \n",
       "\n",
       "     Classes    \n",
       "0  not fire     \n",
       "1  not fire     \n",
       "2  not fire     \n",
       "3  not fire     \n",
       "4  not fire     "
      ],
      "text/html": [
       "<div>\n",
       "<style scoped>\n",
       "    .dataframe tbody tr th:only-of-type {\n",
       "        vertical-align: middle;\n",
       "    }\n",
       "\n",
       "    .dataframe tbody tr th {\n",
       "        vertical-align: top;\n",
       "    }\n",
       "\n",
       "    .dataframe thead th {\n",
       "        text-align: right;\n",
       "    }\n",
       "</style>\n",
       "<table border=\"1\" class=\"dataframe\">\n",
       "  <thead>\n",
       "    <tr style=\"text-align: right;\">\n",
       "      <th></th>\n",
       "      <th>day</th>\n",
       "      <th>month</th>\n",
       "      <th>year</th>\n",
       "      <th>Temperature</th>\n",
       "      <th>RH</th>\n",
       "      <th>Ws</th>\n",
       "      <th>Rain</th>\n",
       "      <th>FFMC</th>\n",
       "      <th>DMC</th>\n",
       "      <th>DC</th>\n",
       "      <th>ISI</th>\n",
       "      <th>BUI</th>\n",
       "      <th>FWI</th>\n",
       "      <th>Classes</th>\n",
       "    </tr>\n",
       "  </thead>\n",
       "  <tbody>\n",
       "    <tr>\n",
       "      <th>0</th>\n",
       "      <td>01</td>\n",
       "      <td>06</td>\n",
       "      <td>2012</td>\n",
       "      <td>29</td>\n",
       "      <td>57</td>\n",
       "      <td>18</td>\n",
       "      <td>0</td>\n",
       "      <td>65.7</td>\n",
       "      <td>3.4</td>\n",
       "      <td>7.6</td>\n",
       "      <td>1.3</td>\n",
       "      <td>3.4</td>\n",
       "      <td>0.5</td>\n",
       "      <td>not fire</td>\n",
       "    </tr>\n",
       "    <tr>\n",
       "      <th>1</th>\n",
       "      <td>02</td>\n",
       "      <td>06</td>\n",
       "      <td>2012</td>\n",
       "      <td>29</td>\n",
       "      <td>61</td>\n",
       "      <td>13</td>\n",
       "      <td>1.3</td>\n",
       "      <td>64.4</td>\n",
       "      <td>4.1</td>\n",
       "      <td>7.6</td>\n",
       "      <td>1</td>\n",
       "      <td>3.9</td>\n",
       "      <td>0.4</td>\n",
       "      <td>not fire</td>\n",
       "    </tr>\n",
       "    <tr>\n",
       "      <th>2</th>\n",
       "      <td>03</td>\n",
       "      <td>06</td>\n",
       "      <td>2012</td>\n",
       "      <td>26</td>\n",
       "      <td>82</td>\n",
       "      <td>22</td>\n",
       "      <td>13.1</td>\n",
       "      <td>47.1</td>\n",
       "      <td>2.5</td>\n",
       "      <td>7.1</td>\n",
       "      <td>0.3</td>\n",
       "      <td>2.7</td>\n",
       "      <td>0.1</td>\n",
       "      <td>not fire</td>\n",
       "    </tr>\n",
       "    <tr>\n",
       "      <th>3</th>\n",
       "      <td>04</td>\n",
       "      <td>06</td>\n",
       "      <td>2012</td>\n",
       "      <td>25</td>\n",
       "      <td>89</td>\n",
       "      <td>13</td>\n",
       "      <td>2.5</td>\n",
       "      <td>28.6</td>\n",
       "      <td>1.3</td>\n",
       "      <td>6.9</td>\n",
       "      <td>0</td>\n",
       "      <td>1.7</td>\n",
       "      <td>0</td>\n",
       "      <td>not fire</td>\n",
       "    </tr>\n",
       "    <tr>\n",
       "      <th>4</th>\n",
       "      <td>05</td>\n",
       "      <td>06</td>\n",
       "      <td>2012</td>\n",
       "      <td>27</td>\n",
       "      <td>77</td>\n",
       "      <td>16</td>\n",
       "      <td>0</td>\n",
       "      <td>64.8</td>\n",
       "      <td>3</td>\n",
       "      <td>14.2</td>\n",
       "      <td>1.2</td>\n",
       "      <td>3.9</td>\n",
       "      <td>0.5</td>\n",
       "      <td>not fire</td>\n",
       "    </tr>\n",
       "  </tbody>\n",
       "</table>\n",
       "</div>"
      ]
     },
     "execution_count": 5,
     "metadata": {},
     "output_type": "execute_result"
    }
   ],
   "execution_count": 5
  },
  {
   "metadata": {
    "ExecuteTime": {
     "end_time": "2024-12-06T10:33:27.032252Z",
     "start_time": "2024-12-06T10:33:27.024525Z"
    }
   },
   "cell_type": "code",
   "source": "df.info",
   "id": "3e731caf3c6a63e9",
   "outputs": [
    {
     "data": {
      "text/plain": [
       "<bound method DataFrame.info of     day month  year Temperature  RH  Ws Rain   FFMC  DMC    DC  ISI   BUI  \\\n",
       "0    01    06  2012          29  57  18     0  65.7  3.4   7.6  1.3   3.4   \n",
       "1    02    06  2012          29  61  13   1.3  64.4  4.1   7.6    1   3.9   \n",
       "2    03    06  2012          26  82  22  13.1  47.1  2.5   7.1  0.3   2.7   \n",
       "3    04    06  2012          25  89  13   2.5  28.6  1.3   6.9    0   1.7   \n",
       "4    05    06  2012          27  77  16     0  64.8    3  14.2  1.2   3.9   \n",
       "..   ..   ...   ...         ...  ..  ..   ...   ...  ...   ...  ...   ...   \n",
       "241  26    09  2012          30  65  14     0  85.4   16  44.5  4.5  16.9   \n",
       "242  27    09  2012          28  87  15   4.4  41.1  6.5     8  0.1   6.2   \n",
       "243  28    09  2012          27  87  29   0.5  45.9  3.5   7.9  0.4   3.4   \n",
       "244  29    09  2012          24  54  18   0.1  79.7  4.3  15.2  1.7   5.1   \n",
       "245  30    09  2012          24  64  15   0.2  67.3  3.8  16.5  1.2   4.8   \n",
       "\n",
       "     FWI     Classes    \n",
       "0    0.5   not fire     \n",
       "1    0.4   not fire     \n",
       "2    0.1   not fire     \n",
       "3      0   not fire     \n",
       "4    0.5   not fire     \n",
       "..   ...           ...  \n",
       "241  6.5       fire     \n",
       "242    0   not fire     \n",
       "243  0.2   not fire     \n",
       "244  0.7   not fire     \n",
       "245  0.5  not fire      \n",
       "\n",
       "[246 rows x 14 columns]>"
      ]
     },
     "execution_count": 6,
     "metadata": {},
     "output_type": "execute_result"
    }
   ],
   "execution_count": 6
  },
  {
   "metadata": {
    "ExecuteTime": {
     "end_time": "2024-12-06T10:33:27.471827Z",
     "start_time": "2024-12-06T10:33:27.460693Z"
    }
   },
   "cell_type": "code",
   "source": "df.info()",
   "id": "793140c26a710f97",
   "outputs": [
    {
     "name": "stdout",
     "output_type": "stream",
     "text": [
      "<class 'pandas.core.frame.DataFrame'>\n",
      "RangeIndex: 246 entries, 0 to 245\n",
      "Data columns (total 14 columns):\n",
      " #   Column       Non-Null Count  Dtype \n",
      "---  ------       --------------  ----- \n",
      " 0   day          246 non-null    object\n",
      " 1   month        245 non-null    object\n",
      " 2   year         245 non-null    object\n",
      " 3   Temperature  245 non-null    object\n",
      " 4    RH          245 non-null    object\n",
      " 5    Ws          245 non-null    object\n",
      " 6   Rain         245 non-null    object\n",
      " 7   FFMC         245 non-null    object\n",
      " 8   DMC          245 non-null    object\n",
      " 9   DC           245 non-null    object\n",
      " 10  ISI          245 non-null    object\n",
      " 11  BUI          245 non-null    object\n",
      " 12  FWI          245 non-null    object\n",
      " 13  Classes      244 non-null    object\n",
      "dtypes: object(14)\n",
      "memory usage: 27.0+ KB\n"
     ]
    }
   ],
   "execution_count": 7
  },
  {
   "metadata": {
    "ExecuteTime": {
     "end_time": "2024-12-06T10:33:27.829225Z",
     "start_time": "2024-12-06T10:33:27.824093Z"
    }
   },
   "cell_type": "code",
   "source": "df.isnull().sum()",
   "id": "a41cd5872fa2f8c3",
   "outputs": [
    {
     "data": {
      "text/plain": [
       "day            0\n",
       "month          1\n",
       "year           1\n",
       "Temperature    1\n",
       " RH            1\n",
       " Ws            1\n",
       "Rain           1\n",
       "FFMC           1\n",
       "DMC            1\n",
       "DC             1\n",
       "ISI            1\n",
       "BUI            1\n",
       "FWI            1\n",
       "Classes        2\n",
       "dtype: int64"
      ]
     },
     "execution_count": 8,
     "metadata": {},
     "output_type": "execute_result"
    }
   ],
   "execution_count": 8
  },
  {
   "metadata": {
    "ExecuteTime": {
     "end_time": "2024-12-06T10:33:28.188835Z",
     "start_time": "2024-12-06T10:33:28.180792Z"
    }
   },
   "cell_type": "code",
   "source": "df[df.isnull().any(axis=1)]",
   "id": "9d506895e37b41f3",
   "outputs": [
    {
     "data": {
      "text/plain": [
       "                               day month  year Temperature   RH   Ws Rain   \\\n",
       "122  Sidi-Bel Abbes Region Dataset   NaN   NaN         NaN  NaN  NaN   NaN   \n",
       "167                             14    07  2012          37   37   18   0.2   \n",
       "\n",
       "     FFMC   DMC      DC   ISI   BUI      FWI Classes    \n",
       "122   NaN   NaN     NaN   NaN   NaN      NaN       NaN  \n",
       "167  88.9  12.9  14.6 9  12.5  10.4  fire          NaN  "
      ],
      "text/html": [
       "<div>\n",
       "<style scoped>\n",
       "    .dataframe tbody tr th:only-of-type {\n",
       "        vertical-align: middle;\n",
       "    }\n",
       "\n",
       "    .dataframe tbody tr th {\n",
       "        vertical-align: top;\n",
       "    }\n",
       "\n",
       "    .dataframe thead th {\n",
       "        text-align: right;\n",
       "    }\n",
       "</style>\n",
       "<table border=\"1\" class=\"dataframe\">\n",
       "  <thead>\n",
       "    <tr style=\"text-align: right;\">\n",
       "      <th></th>\n",
       "      <th>day</th>\n",
       "      <th>month</th>\n",
       "      <th>year</th>\n",
       "      <th>Temperature</th>\n",
       "      <th>RH</th>\n",
       "      <th>Ws</th>\n",
       "      <th>Rain</th>\n",
       "      <th>FFMC</th>\n",
       "      <th>DMC</th>\n",
       "      <th>DC</th>\n",
       "      <th>ISI</th>\n",
       "      <th>BUI</th>\n",
       "      <th>FWI</th>\n",
       "      <th>Classes</th>\n",
       "    </tr>\n",
       "  </thead>\n",
       "  <tbody>\n",
       "    <tr>\n",
       "      <th>122</th>\n",
       "      <td>Sidi-Bel Abbes Region Dataset</td>\n",
       "      <td>NaN</td>\n",
       "      <td>NaN</td>\n",
       "      <td>NaN</td>\n",
       "      <td>NaN</td>\n",
       "      <td>NaN</td>\n",
       "      <td>NaN</td>\n",
       "      <td>NaN</td>\n",
       "      <td>NaN</td>\n",
       "      <td>NaN</td>\n",
       "      <td>NaN</td>\n",
       "      <td>NaN</td>\n",
       "      <td>NaN</td>\n",
       "      <td>NaN</td>\n",
       "    </tr>\n",
       "    <tr>\n",
       "      <th>167</th>\n",
       "      <td>14</td>\n",
       "      <td>07</td>\n",
       "      <td>2012</td>\n",
       "      <td>37</td>\n",
       "      <td>37</td>\n",
       "      <td>18</td>\n",
       "      <td>0.2</td>\n",
       "      <td>88.9</td>\n",
       "      <td>12.9</td>\n",
       "      <td>14.6 9</td>\n",
       "      <td>12.5</td>\n",
       "      <td>10.4</td>\n",
       "      <td>fire</td>\n",
       "      <td>NaN</td>\n",
       "    </tr>\n",
       "  </tbody>\n",
       "</table>\n",
       "</div>"
      ]
     },
     "execution_count": 9,
     "metadata": {},
     "output_type": "execute_result"
    }
   ],
   "execution_count": 9
  },
  {
   "metadata": {
    "ExecuteTime": {
     "end_time": "2024-12-06T10:33:28.525257Z",
     "start_time": "2024-12-06T10:33:28.521588Z"
    }
   },
   "cell_type": "code",
   "source": [
    "df.loc[:122,\"Region\"] = 0\n",
    "df.loc[122:,\"Region\"] = 1"
   ],
   "id": "acb6355f95a5430a",
   "outputs": [],
   "execution_count": 10
  },
  {
   "metadata": {
    "ExecuteTime": {
     "end_time": "2024-12-06T10:33:28.872459Z",
     "start_time": "2024-12-06T10:33:28.865355Z"
    }
   },
   "cell_type": "code",
   "source": "df.info()",
   "id": "8f30cc7d20aef3fe",
   "outputs": [
    {
     "name": "stdout",
     "output_type": "stream",
     "text": [
      "<class 'pandas.core.frame.DataFrame'>\n",
      "RangeIndex: 246 entries, 0 to 245\n",
      "Data columns (total 15 columns):\n",
      " #   Column       Non-Null Count  Dtype  \n",
      "---  ------       --------------  -----  \n",
      " 0   day          246 non-null    object \n",
      " 1   month        245 non-null    object \n",
      " 2   year         245 non-null    object \n",
      " 3   Temperature  245 non-null    object \n",
      " 4    RH          245 non-null    object \n",
      " 5    Ws          245 non-null    object \n",
      " 6   Rain         245 non-null    object \n",
      " 7   FFMC         245 non-null    object \n",
      " 8   DMC          245 non-null    object \n",
      " 9   DC           245 non-null    object \n",
      " 10  ISI          245 non-null    object \n",
      " 11  BUI          245 non-null    object \n",
      " 12  FWI          245 non-null    object \n",
      " 13  Classes      244 non-null    object \n",
      " 14  Region       246 non-null    float64\n",
      "dtypes: float64(1), object(14)\n",
      "memory usage: 29.0+ KB\n"
     ]
    }
   ],
   "execution_count": 11
  },
  {
   "metadata": {
    "ExecuteTime": {
     "end_time": "2024-12-06T10:33:29.230561Z",
     "start_time": "2024-12-06T10:33:29.218679Z"
    }
   },
   "cell_type": "code",
   "source": "df.describe()",
   "id": "c5f0a857c212e20b",
   "outputs": [
    {
     "data": {
      "text/plain": [
       "           Region\n",
       "count  246.000000\n",
       "mean     0.504065\n",
       "std      0.501003\n",
       "min      0.000000\n",
       "25%      0.000000\n",
       "50%      1.000000\n",
       "75%      1.000000\n",
       "max      1.000000"
      ],
      "text/html": [
       "<div>\n",
       "<style scoped>\n",
       "    .dataframe tbody tr th:only-of-type {\n",
       "        vertical-align: middle;\n",
       "    }\n",
       "\n",
       "    .dataframe tbody tr th {\n",
       "        vertical-align: top;\n",
       "    }\n",
       "\n",
       "    .dataframe thead th {\n",
       "        text-align: right;\n",
       "    }\n",
       "</style>\n",
       "<table border=\"1\" class=\"dataframe\">\n",
       "  <thead>\n",
       "    <tr style=\"text-align: right;\">\n",
       "      <th></th>\n",
       "      <th>Region</th>\n",
       "    </tr>\n",
       "  </thead>\n",
       "  <tbody>\n",
       "    <tr>\n",
       "      <th>count</th>\n",
       "      <td>246.000000</td>\n",
       "    </tr>\n",
       "    <tr>\n",
       "      <th>mean</th>\n",
       "      <td>0.504065</td>\n",
       "    </tr>\n",
       "    <tr>\n",
       "      <th>std</th>\n",
       "      <td>0.501003</td>\n",
       "    </tr>\n",
       "    <tr>\n",
       "      <th>min</th>\n",
       "      <td>0.000000</td>\n",
       "    </tr>\n",
       "    <tr>\n",
       "      <th>25%</th>\n",
       "      <td>0.000000</td>\n",
       "    </tr>\n",
       "    <tr>\n",
       "      <th>50%</th>\n",
       "      <td>1.000000</td>\n",
       "    </tr>\n",
       "    <tr>\n",
       "      <th>75%</th>\n",
       "      <td>1.000000</td>\n",
       "    </tr>\n",
       "    <tr>\n",
       "      <th>max</th>\n",
       "      <td>1.000000</td>\n",
       "    </tr>\n",
       "  </tbody>\n",
       "</table>\n",
       "</div>"
      ]
     },
     "execution_count": 12,
     "metadata": {},
     "output_type": "execute_result"
    }
   ],
   "execution_count": 12
  },
  {
   "metadata": {
    "ExecuteTime": {
     "end_time": "2024-12-06T10:33:29.557035Z",
     "start_time": "2024-12-06T10:33:29.552093Z"
    }
   },
   "cell_type": "code",
   "source": "df[['Region']] = df[['Region']].astype(int)",
   "id": "ebf4cc24cf6a01aa",
   "outputs": [],
   "execution_count": 13
  },
  {
   "metadata": {
    "ExecuteTime": {
     "end_time": "2024-12-06T10:33:29.881931Z",
     "start_time": "2024-12-06T10:33:29.877002Z"
    }
   },
   "cell_type": "code",
   "source": "df.isnull().sum()",
   "id": "12420cd5de7d2c20",
   "outputs": [
    {
     "data": {
      "text/plain": [
       "day            0\n",
       "month          1\n",
       "year           1\n",
       "Temperature    1\n",
       " RH            1\n",
       " Ws            1\n",
       "Rain           1\n",
       "FFMC           1\n",
       "DMC            1\n",
       "DC             1\n",
       "ISI            1\n",
       "BUI            1\n",
       "FWI            1\n",
       "Classes        2\n",
       "Region         0\n",
       "dtype: int64"
      ]
     },
     "execution_count": 14,
     "metadata": {},
     "output_type": "execute_result"
    }
   ],
   "execution_count": 14
  },
  {
   "metadata": {
    "ExecuteTime": {
     "end_time": "2024-12-06T10:33:30.238052Z",
     "start_time": "2024-12-06T10:33:30.232752Z"
    }
   },
   "cell_type": "code",
   "source": "df = df.dropna().reset_index(drop=True)",
   "id": "cae22e926f141391",
   "outputs": [],
   "execution_count": 15
  },
  {
   "metadata": {
    "ExecuteTime": {
     "end_time": "2024-12-06T10:33:30.614154Z",
     "start_time": "2024-12-06T10:33:30.608379Z"
    }
   },
   "cell_type": "code",
   "source": "df.isnull().sum()",
   "id": "e1aa80e40bcf52ce",
   "outputs": [
    {
     "data": {
      "text/plain": [
       "day            0\n",
       "month          0\n",
       "year           0\n",
       "Temperature    0\n",
       " RH            0\n",
       " Ws            0\n",
       "Rain           0\n",
       "FFMC           0\n",
       "DMC            0\n",
       "DC             0\n",
       "ISI            0\n",
       "BUI            0\n",
       "FWI            0\n",
       "Classes        0\n",
       "Region         0\n",
       "dtype: int64"
      ]
     },
     "execution_count": 16,
     "metadata": {},
     "output_type": "execute_result"
    }
   ],
   "execution_count": 16
  },
  {
   "metadata": {
    "ExecuteTime": {
     "end_time": "2024-12-06T10:33:30.940774Z",
     "start_time": "2024-12-06T10:33:30.932042Z"
    }
   },
   "cell_type": "code",
   "source": "df.loc[[122]]",
   "id": "4d796295a458f21",
   "outputs": [
    {
     "data": {
      "text/plain": [
       "     day  month  year  Temperature   RH   Ws  Rain   FFMC  DMC  DC  ISI  BUI  \\\n",
       "122  day  month  year  Temperature   RH   Ws  Rain   FFMC  DMC  DC  ISI  BUI   \n",
       "\n",
       "     FWI  Classes    Region  \n",
       "122  FWI  Classes         1  "
      ],
      "text/html": [
       "<div>\n",
       "<style scoped>\n",
       "    .dataframe tbody tr th:only-of-type {\n",
       "        vertical-align: middle;\n",
       "    }\n",
       "\n",
       "    .dataframe tbody tr th {\n",
       "        vertical-align: top;\n",
       "    }\n",
       "\n",
       "    .dataframe thead th {\n",
       "        text-align: right;\n",
       "    }\n",
       "</style>\n",
       "<table border=\"1\" class=\"dataframe\">\n",
       "  <thead>\n",
       "    <tr style=\"text-align: right;\">\n",
       "      <th></th>\n",
       "      <th>day</th>\n",
       "      <th>month</th>\n",
       "      <th>year</th>\n",
       "      <th>Temperature</th>\n",
       "      <th>RH</th>\n",
       "      <th>Ws</th>\n",
       "      <th>Rain</th>\n",
       "      <th>FFMC</th>\n",
       "      <th>DMC</th>\n",
       "      <th>DC</th>\n",
       "      <th>ISI</th>\n",
       "      <th>BUI</th>\n",
       "      <th>FWI</th>\n",
       "      <th>Classes</th>\n",
       "      <th>Region</th>\n",
       "    </tr>\n",
       "  </thead>\n",
       "  <tbody>\n",
       "    <tr>\n",
       "      <th>122</th>\n",
       "      <td>day</td>\n",
       "      <td>month</td>\n",
       "      <td>year</td>\n",
       "      <td>Temperature</td>\n",
       "      <td>RH</td>\n",
       "      <td>Ws</td>\n",
       "      <td>Rain</td>\n",
       "      <td>FFMC</td>\n",
       "      <td>DMC</td>\n",
       "      <td>DC</td>\n",
       "      <td>ISI</td>\n",
       "      <td>BUI</td>\n",
       "      <td>FWI</td>\n",
       "      <td>Classes</td>\n",
       "      <td>1</td>\n",
       "    </tr>\n",
       "  </tbody>\n",
       "</table>\n",
       "</div>"
      ]
     },
     "execution_count": 17,
     "metadata": {},
     "output_type": "execute_result"
    }
   ],
   "execution_count": 17
  },
  {
   "metadata": {
    "ExecuteTime": {
     "end_time": "2024-12-06T10:33:31.295739Z",
     "start_time": "2024-12-06T10:33:31.291134Z"
    }
   },
   "cell_type": "code",
   "source": "df = df.drop(122).reset_index(drop=True)",
   "id": "3756fb3fc634ee4f",
   "outputs": [],
   "execution_count": 18
  },
  {
   "metadata": {
    "ExecuteTime": {
     "end_time": "2024-12-06T10:33:31.644755Z",
     "start_time": "2024-12-06T10:33:31.638137Z"
    }
   },
   "cell_type": "code",
   "source": "df.iloc[[122]]",
   "id": "a23a7ca5c1d54259",
   "outputs": [
    {
     "data": {
      "text/plain": [
       "    day month  year Temperature  RH  Ws Rain   FFMC  DMC   DC  ISI  BUI  FWI  \\\n",
       "122  01    06  2012          32  71  12   0.7  57.1  2.5  8.2  0.6  2.8  0.2   \n",
       "\n",
       "       Classes    Region  \n",
       "122  not fire          1  "
      ],
      "text/html": [
       "<div>\n",
       "<style scoped>\n",
       "    .dataframe tbody tr th:only-of-type {\n",
       "        vertical-align: middle;\n",
       "    }\n",
       "\n",
       "    .dataframe tbody tr th {\n",
       "        vertical-align: top;\n",
       "    }\n",
       "\n",
       "    .dataframe thead th {\n",
       "        text-align: right;\n",
       "    }\n",
       "</style>\n",
       "<table border=\"1\" class=\"dataframe\">\n",
       "  <thead>\n",
       "    <tr style=\"text-align: right;\">\n",
       "      <th></th>\n",
       "      <th>day</th>\n",
       "      <th>month</th>\n",
       "      <th>year</th>\n",
       "      <th>Temperature</th>\n",
       "      <th>RH</th>\n",
       "      <th>Ws</th>\n",
       "      <th>Rain</th>\n",
       "      <th>FFMC</th>\n",
       "      <th>DMC</th>\n",
       "      <th>DC</th>\n",
       "      <th>ISI</th>\n",
       "      <th>BUI</th>\n",
       "      <th>FWI</th>\n",
       "      <th>Classes</th>\n",
       "      <th>Region</th>\n",
       "    </tr>\n",
       "  </thead>\n",
       "  <tbody>\n",
       "    <tr>\n",
       "      <th>122</th>\n",
       "      <td>01</td>\n",
       "      <td>06</td>\n",
       "      <td>2012</td>\n",
       "      <td>32</td>\n",
       "      <td>71</td>\n",
       "      <td>12</td>\n",
       "      <td>0.7</td>\n",
       "      <td>57.1</td>\n",
       "      <td>2.5</td>\n",
       "      <td>8.2</td>\n",
       "      <td>0.6</td>\n",
       "      <td>2.8</td>\n",
       "      <td>0.2</td>\n",
       "      <td>not fire</td>\n",
       "      <td>1</td>\n",
       "    </tr>\n",
       "  </tbody>\n",
       "</table>\n",
       "</div>"
      ]
     },
     "execution_count": 19,
     "metadata": {},
     "output_type": "execute_result"
    }
   ],
   "execution_count": 19
  },
  {
   "metadata": {
    "ExecuteTime": {
     "end_time": "2024-12-06T10:33:31.972584Z",
     "start_time": "2024-12-06T10:33:31.969698Z"
    }
   },
   "cell_type": "code",
   "source": [
    "## fix the space problem in columns name\n",
    "df.columns = df.columns.str.strip()"
   ],
   "id": "b09488b10d60f039",
   "outputs": [],
   "execution_count": 20
  },
  {
   "metadata": {
    "ExecuteTime": {
     "end_time": "2024-12-06T10:33:32.363067Z",
     "start_time": "2024-12-06T10:33:32.356514Z"
    }
   },
   "cell_type": "code",
   "source": "df.info()",
   "id": "f0981258291e6eda",
   "outputs": [
    {
     "name": "stdout",
     "output_type": "stream",
     "text": [
      "<class 'pandas.core.frame.DataFrame'>\n",
      "RangeIndex: 243 entries, 0 to 242\n",
      "Data columns (total 15 columns):\n",
      " #   Column       Non-Null Count  Dtype \n",
      "---  ------       --------------  ----- \n",
      " 0   day          243 non-null    object\n",
      " 1   month        243 non-null    object\n",
      " 2   year         243 non-null    object\n",
      " 3   Temperature  243 non-null    object\n",
      " 4   RH           243 non-null    object\n",
      " 5   Ws           243 non-null    object\n",
      " 6   Rain         243 non-null    object\n",
      " 7   FFMC         243 non-null    object\n",
      " 8   DMC          243 non-null    object\n",
      " 9   DC           243 non-null    object\n",
      " 10  ISI          243 non-null    object\n",
      " 11  BUI          243 non-null    object\n",
      " 12  FWI          243 non-null    object\n",
      " 13  Classes      243 non-null    object\n",
      " 14  Region       243 non-null    int32 \n",
      "dtypes: int32(1), object(14)\n",
      "memory usage: 27.7+ KB\n"
     ]
    }
   ],
   "execution_count": 21
  },
  {
   "metadata": {
    "ExecuteTime": {
     "end_time": "2024-12-06T10:33:32.783635Z",
     "start_time": "2024-12-06T10:33:32.779286Z"
    }
   },
   "cell_type": "code",
   "source": [
    "# change the required columns as integer datatype\n",
    "df[['month','day','year','Temperature','RH','Ws']] = df[['month','day','year','Temperature','RH','Ws']].astype(int)"
   ],
   "id": "c709d36461b4acab",
   "outputs": [],
   "execution_count": 22
  },
  {
   "metadata": {
    "ExecuteTime": {
     "end_time": "2024-12-06T10:33:33.159751Z",
     "start_time": "2024-12-06T10:33:33.152786Z"
    }
   },
   "cell_type": "code",
   "source": "df.info()",
   "id": "1abe18acd0eef4a8",
   "outputs": [
    {
     "name": "stdout",
     "output_type": "stream",
     "text": [
      "<class 'pandas.core.frame.DataFrame'>\n",
      "RangeIndex: 243 entries, 0 to 242\n",
      "Data columns (total 15 columns):\n",
      " #   Column       Non-Null Count  Dtype \n",
      "---  ------       --------------  ----- \n",
      " 0   day          243 non-null    int32 \n",
      " 1   month        243 non-null    int32 \n",
      " 2   year         243 non-null    int32 \n",
      " 3   Temperature  243 non-null    int32 \n",
      " 4   RH           243 non-null    int32 \n",
      " 5   Ws           243 non-null    int32 \n",
      " 6   Rain         243 non-null    object\n",
      " 7   FFMC         243 non-null    object\n",
      " 8   DMC          243 non-null    object\n",
      " 9   DC           243 non-null    object\n",
      " 10  ISI          243 non-null    object\n",
      " 11  BUI          243 non-null    object\n",
      " 12  FWI          243 non-null    object\n",
      " 13  Classes      243 non-null    object\n",
      " 14  Region       243 non-null    int32 \n",
      "dtypes: int32(7), object(8)\n",
      "memory usage: 22.0+ KB\n"
     ]
    }
   ],
   "execution_count": 23
  },
  {
   "metadata": {
    "ExecuteTime": {
     "end_time": "2024-12-06T10:33:33.570270Z",
     "start_time": "2024-12-06T10:33:33.562733Z"
    }
   },
   "cell_type": "code",
   "source": "df.head()",
   "id": "90941c4fef2e07c7",
   "outputs": [
    {
     "data": {
      "text/plain": [
       "   day  month  year  Temperature  RH  Ws  Rain  FFMC  DMC    DC  ISI  BUI  \\\n",
       "0    1      6  2012           29  57  18     0  65.7  3.4   7.6  1.3  3.4   \n",
       "1    2      6  2012           29  61  13   1.3  64.4  4.1   7.6    1  3.9   \n",
       "2    3      6  2012           26  82  22  13.1  47.1  2.5   7.1  0.3  2.7   \n",
       "3    4      6  2012           25  89  13   2.5  28.6  1.3   6.9    0  1.7   \n",
       "4    5      6  2012           27  77  16     0  64.8    3  14.2  1.2  3.9   \n",
       "\n",
       "   FWI      Classes  Region  \n",
       "0  0.5  not fire          0  \n",
       "1  0.4  not fire          0  \n",
       "2  0.1  not fire          0  \n",
       "3    0  not fire          0  \n",
       "4  0.5  not fire          0  "
      ],
      "text/html": [
       "<div>\n",
       "<style scoped>\n",
       "    .dataframe tbody tr th:only-of-type {\n",
       "        vertical-align: middle;\n",
       "    }\n",
       "\n",
       "    .dataframe tbody tr th {\n",
       "        vertical-align: top;\n",
       "    }\n",
       "\n",
       "    .dataframe thead th {\n",
       "        text-align: right;\n",
       "    }\n",
       "</style>\n",
       "<table border=\"1\" class=\"dataframe\">\n",
       "  <thead>\n",
       "    <tr style=\"text-align: right;\">\n",
       "      <th></th>\n",
       "      <th>day</th>\n",
       "      <th>month</th>\n",
       "      <th>year</th>\n",
       "      <th>Temperature</th>\n",
       "      <th>RH</th>\n",
       "      <th>Ws</th>\n",
       "      <th>Rain</th>\n",
       "      <th>FFMC</th>\n",
       "      <th>DMC</th>\n",
       "      <th>DC</th>\n",
       "      <th>ISI</th>\n",
       "      <th>BUI</th>\n",
       "      <th>FWI</th>\n",
       "      <th>Classes</th>\n",
       "      <th>Region</th>\n",
       "    </tr>\n",
       "  </thead>\n",
       "  <tbody>\n",
       "    <tr>\n",
       "      <th>0</th>\n",
       "      <td>1</td>\n",
       "      <td>6</td>\n",
       "      <td>2012</td>\n",
       "      <td>29</td>\n",
       "      <td>57</td>\n",
       "      <td>18</td>\n",
       "      <td>0</td>\n",
       "      <td>65.7</td>\n",
       "      <td>3.4</td>\n",
       "      <td>7.6</td>\n",
       "      <td>1.3</td>\n",
       "      <td>3.4</td>\n",
       "      <td>0.5</td>\n",
       "      <td>not fire</td>\n",
       "      <td>0</td>\n",
       "    </tr>\n",
       "    <tr>\n",
       "      <th>1</th>\n",
       "      <td>2</td>\n",
       "      <td>6</td>\n",
       "      <td>2012</td>\n",
       "      <td>29</td>\n",
       "      <td>61</td>\n",
       "      <td>13</td>\n",
       "      <td>1.3</td>\n",
       "      <td>64.4</td>\n",
       "      <td>4.1</td>\n",
       "      <td>7.6</td>\n",
       "      <td>1</td>\n",
       "      <td>3.9</td>\n",
       "      <td>0.4</td>\n",
       "      <td>not fire</td>\n",
       "      <td>0</td>\n",
       "    </tr>\n",
       "    <tr>\n",
       "      <th>2</th>\n",
       "      <td>3</td>\n",
       "      <td>6</td>\n",
       "      <td>2012</td>\n",
       "      <td>26</td>\n",
       "      <td>82</td>\n",
       "      <td>22</td>\n",
       "      <td>13.1</td>\n",
       "      <td>47.1</td>\n",
       "      <td>2.5</td>\n",
       "      <td>7.1</td>\n",
       "      <td>0.3</td>\n",
       "      <td>2.7</td>\n",
       "      <td>0.1</td>\n",
       "      <td>not fire</td>\n",
       "      <td>0</td>\n",
       "    </tr>\n",
       "    <tr>\n",
       "      <th>3</th>\n",
       "      <td>4</td>\n",
       "      <td>6</td>\n",
       "      <td>2012</td>\n",
       "      <td>25</td>\n",
       "      <td>89</td>\n",
       "      <td>13</td>\n",
       "      <td>2.5</td>\n",
       "      <td>28.6</td>\n",
       "      <td>1.3</td>\n",
       "      <td>6.9</td>\n",
       "      <td>0</td>\n",
       "      <td>1.7</td>\n",
       "      <td>0</td>\n",
       "      <td>not fire</td>\n",
       "      <td>0</td>\n",
       "    </tr>\n",
       "    <tr>\n",
       "      <th>4</th>\n",
       "      <td>5</td>\n",
       "      <td>6</td>\n",
       "      <td>2012</td>\n",
       "      <td>27</td>\n",
       "      <td>77</td>\n",
       "      <td>16</td>\n",
       "      <td>0</td>\n",
       "      <td>64.8</td>\n",
       "      <td>3</td>\n",
       "      <td>14.2</td>\n",
       "      <td>1.2</td>\n",
       "      <td>3.9</td>\n",
       "      <td>0.5</td>\n",
       "      <td>not fire</td>\n",
       "      <td>0</td>\n",
       "    </tr>\n",
       "  </tbody>\n",
       "</table>\n",
       "</div>"
      ]
     },
     "execution_count": 24,
     "metadata": {},
     "output_type": "execute_result"
    }
   ],
   "execution_count": 24
  },
  {
   "metadata": {
    "ExecuteTime": {
     "end_time": "2024-12-06T10:33:33.914045Z",
     "start_time": "2024-12-06T10:33:33.908253Z"
    }
   },
   "cell_type": "code",
   "source": "df[['Rain','FFMC','DMC','DC','ISI','BUI','FWI']] = df[['Rain','FFMC','DMC','DC','ISI','BUI','FWI']].astype(float)",
   "id": "6ae395f11ce0a609",
   "outputs": [],
   "execution_count": 25
  },
  {
   "metadata": {
    "ExecuteTime": {
     "end_time": "2024-12-06T10:33:34.308650Z",
     "start_time": "2024-12-06T10:33:34.300922Z"
    }
   },
   "cell_type": "code",
   "source": "df.info()",
   "id": "8802f140b6d8c3fc",
   "outputs": [
    {
     "name": "stdout",
     "output_type": "stream",
     "text": [
      "<class 'pandas.core.frame.DataFrame'>\n",
      "RangeIndex: 243 entries, 0 to 242\n",
      "Data columns (total 15 columns):\n",
      " #   Column       Non-Null Count  Dtype  \n",
      "---  ------       --------------  -----  \n",
      " 0   day          243 non-null    int32  \n",
      " 1   month        243 non-null    int32  \n",
      " 2   year         243 non-null    int32  \n",
      " 3   Temperature  243 non-null    int32  \n",
      " 4   RH           243 non-null    int32  \n",
      " 5   Ws           243 non-null    int32  \n",
      " 6   Rain         243 non-null    float64\n",
      " 7   FFMC         243 non-null    float64\n",
      " 8   DMC          243 non-null    float64\n",
      " 9   DC           243 non-null    float64\n",
      " 10  ISI          243 non-null    float64\n",
      " 11  BUI          243 non-null    float64\n",
      " 12  FWI          243 non-null    float64\n",
      " 13  Classes      243 non-null    object \n",
      " 14  Region       243 non-null    int32  \n",
      "dtypes: float64(7), int32(7), object(1)\n",
      "memory usage: 22.0+ KB\n"
     ]
    }
   ],
   "execution_count": 26
  },
  {
   "metadata": {
    "ExecuteTime": {
     "end_time": "2024-12-06T10:33:34.709154Z",
     "start_time": "2024-12-06T10:33:34.704697Z"
    }
   },
   "cell_type": "code",
   "source": "df.Classes.unique()",
   "id": "3df67fd46941134a",
   "outputs": [
    {
     "data": {
      "text/plain": [
       "array(['not fire   ', 'fire   ', 'fire', 'fire ', 'not fire', 'not fire ',\n",
       "       'not fire     ', 'not fire    '], dtype=object)"
      ]
     },
     "execution_count": 27,
     "metadata": {},
     "output_type": "execute_result"
    }
   ],
   "execution_count": 27
  },
  {
   "metadata": {
    "ExecuteTime": {
     "end_time": "2024-12-06T10:33:35.101619Z",
     "start_time": "2024-12-06T10:33:35.094338Z"
    }
   },
   "cell_type": "code",
   "source": [
    "# lets save the updated dataset\n",
    "df.to_csv('Algerian_forest_fires_dataset_UPDATE[1].csv',index=False)"
   ],
   "id": "f81f2a4068d35205",
   "outputs": [],
   "execution_count": 28
  },
  {
   "metadata": {
    "ExecuteTime": {
     "end_time": "2024-12-06T10:33:35.459127Z",
     "start_time": "2024-12-06T10:33:35.456599Z"
    }
   },
   "cell_type": "code",
   "source": "",
   "id": "72de42d6850bc1a1",
   "outputs": [],
   "execution_count": null
  },
  {
   "metadata": {
    "ExecuteTime": {
     "end_time": "2024-12-06T10:33:35.790943Z",
     "start_time": "2024-12-06T10:33:35.786024Z"
    }
   },
   "cell_type": "code",
   "source": "df2 = pd.read_csv('Algerian_forest_fires_dataset_UPDATE[1].csv')",
   "id": "33a37b019e3a71a",
   "outputs": [],
   "execution_count": 29
  },
  {
   "metadata": {
    "ExecuteTime": {
     "end_time": "2024-12-06T10:33:36.103490Z",
     "start_time": "2024-12-06T10:33:36.094140Z"
    }
   },
   "cell_type": "code",
   "source": "df2.head()",
   "id": "645167a5bf85e82b",
   "outputs": [
    {
     "data": {
      "text/plain": [
       "   day  month  year  Temperature  RH  Ws  Rain  FFMC  DMC    DC  ISI  BUI  \\\n",
       "0    1      6  2012           29  57  18   0.0  65.7  3.4   7.6  1.3  3.4   \n",
       "1    2      6  2012           29  61  13   1.3  64.4  4.1   7.6  1.0  3.9   \n",
       "2    3      6  2012           26  82  22  13.1  47.1  2.5   7.1  0.3  2.7   \n",
       "3    4      6  2012           25  89  13   2.5  28.6  1.3   6.9  0.0  1.7   \n",
       "4    5      6  2012           27  77  16   0.0  64.8  3.0  14.2  1.2  3.9   \n",
       "\n",
       "   FWI      Classes  Region  \n",
       "0  0.5  not fire          0  \n",
       "1  0.4  not fire          0  \n",
       "2  0.1  not fire          0  \n",
       "3  0.0  not fire          0  \n",
       "4  0.5  not fire          0  "
      ],
      "text/html": [
       "<div>\n",
       "<style scoped>\n",
       "    .dataframe tbody tr th:only-of-type {\n",
       "        vertical-align: middle;\n",
       "    }\n",
       "\n",
       "    .dataframe tbody tr th {\n",
       "        vertical-align: top;\n",
       "    }\n",
       "\n",
       "    .dataframe thead th {\n",
       "        text-align: right;\n",
       "    }\n",
       "</style>\n",
       "<table border=\"1\" class=\"dataframe\">\n",
       "  <thead>\n",
       "    <tr style=\"text-align: right;\">\n",
       "      <th></th>\n",
       "      <th>day</th>\n",
       "      <th>month</th>\n",
       "      <th>year</th>\n",
       "      <th>Temperature</th>\n",
       "      <th>RH</th>\n",
       "      <th>Ws</th>\n",
       "      <th>Rain</th>\n",
       "      <th>FFMC</th>\n",
       "      <th>DMC</th>\n",
       "      <th>DC</th>\n",
       "      <th>ISI</th>\n",
       "      <th>BUI</th>\n",
       "      <th>FWI</th>\n",
       "      <th>Classes</th>\n",
       "      <th>Region</th>\n",
       "    </tr>\n",
       "  </thead>\n",
       "  <tbody>\n",
       "    <tr>\n",
       "      <th>0</th>\n",
       "      <td>1</td>\n",
       "      <td>6</td>\n",
       "      <td>2012</td>\n",
       "      <td>29</td>\n",
       "      <td>57</td>\n",
       "      <td>18</td>\n",
       "      <td>0.0</td>\n",
       "      <td>65.7</td>\n",
       "      <td>3.4</td>\n",
       "      <td>7.6</td>\n",
       "      <td>1.3</td>\n",
       "      <td>3.4</td>\n",
       "      <td>0.5</td>\n",
       "      <td>not fire</td>\n",
       "      <td>0</td>\n",
       "    </tr>\n",
       "    <tr>\n",
       "      <th>1</th>\n",
       "      <td>2</td>\n",
       "      <td>6</td>\n",
       "      <td>2012</td>\n",
       "      <td>29</td>\n",
       "      <td>61</td>\n",
       "      <td>13</td>\n",
       "      <td>1.3</td>\n",
       "      <td>64.4</td>\n",
       "      <td>4.1</td>\n",
       "      <td>7.6</td>\n",
       "      <td>1.0</td>\n",
       "      <td>3.9</td>\n",
       "      <td>0.4</td>\n",
       "      <td>not fire</td>\n",
       "      <td>0</td>\n",
       "    </tr>\n",
       "    <tr>\n",
       "      <th>2</th>\n",
       "      <td>3</td>\n",
       "      <td>6</td>\n",
       "      <td>2012</td>\n",
       "      <td>26</td>\n",
       "      <td>82</td>\n",
       "      <td>22</td>\n",
       "      <td>13.1</td>\n",
       "      <td>47.1</td>\n",
       "      <td>2.5</td>\n",
       "      <td>7.1</td>\n",
       "      <td>0.3</td>\n",
       "      <td>2.7</td>\n",
       "      <td>0.1</td>\n",
       "      <td>not fire</td>\n",
       "      <td>0</td>\n",
       "    </tr>\n",
       "    <tr>\n",
       "      <th>3</th>\n",
       "      <td>4</td>\n",
       "      <td>6</td>\n",
       "      <td>2012</td>\n",
       "      <td>25</td>\n",
       "      <td>89</td>\n",
       "      <td>13</td>\n",
       "      <td>2.5</td>\n",
       "      <td>28.6</td>\n",
       "      <td>1.3</td>\n",
       "      <td>6.9</td>\n",
       "      <td>0.0</td>\n",
       "      <td>1.7</td>\n",
       "      <td>0.0</td>\n",
       "      <td>not fire</td>\n",
       "      <td>0</td>\n",
       "    </tr>\n",
       "    <tr>\n",
       "      <th>4</th>\n",
       "      <td>5</td>\n",
       "      <td>6</td>\n",
       "      <td>2012</td>\n",
       "      <td>27</td>\n",
       "      <td>77</td>\n",
       "      <td>16</td>\n",
       "      <td>0.0</td>\n",
       "      <td>64.8</td>\n",
       "      <td>3.0</td>\n",
       "      <td>14.2</td>\n",
       "      <td>1.2</td>\n",
       "      <td>3.9</td>\n",
       "      <td>0.5</td>\n",
       "      <td>not fire</td>\n",
       "      <td>0</td>\n",
       "    </tr>\n",
       "  </tbody>\n",
       "</table>\n",
       "</div>"
      ]
     },
     "execution_count": 30,
     "metadata": {},
     "output_type": "execute_result"
    }
   ],
   "execution_count": 30
  },
  {
   "metadata": {
    "ExecuteTime": {
     "end_time": "2024-12-06T10:33:36.436765Z",
     "start_time": "2024-12-06T10:33:36.432373Z"
    }
   },
   "cell_type": "code",
   "source": "df2.drop(['day','month','year'],axis=1,inplace=True)",
   "id": "d4664d5d4d17acc9",
   "outputs": [],
   "execution_count": 31
  },
  {
   "metadata": {
    "ExecuteTime": {
     "end_time": "2024-12-06T10:33:36.781135Z",
     "start_time": "2024-12-06T10:33:36.771663Z"
    }
   },
   "cell_type": "code",
   "source": "df2.head()",
   "id": "78cb70a7750e8afc",
   "outputs": [
    {
     "data": {
      "text/plain": [
       "   Temperature  RH  Ws  Rain  FFMC  DMC    DC  ISI  BUI  FWI      Classes  \\\n",
       "0           29  57  18   0.0  65.7  3.4   7.6  1.3  3.4  0.5  not fire      \n",
       "1           29  61  13   1.3  64.4  4.1   7.6  1.0  3.9  0.4  not fire      \n",
       "2           26  82  22  13.1  47.1  2.5   7.1  0.3  2.7  0.1  not fire      \n",
       "3           25  89  13   2.5  28.6  1.3   6.9  0.0  1.7  0.0  not fire      \n",
       "4           27  77  16   0.0  64.8  3.0  14.2  1.2  3.9  0.5  not fire      \n",
       "\n",
       "   Region  \n",
       "0       0  \n",
       "1       0  \n",
       "2       0  \n",
       "3       0  \n",
       "4       0  "
      ],
      "text/html": [
       "<div>\n",
       "<style scoped>\n",
       "    .dataframe tbody tr th:only-of-type {\n",
       "        vertical-align: middle;\n",
       "    }\n",
       "\n",
       "    .dataframe tbody tr th {\n",
       "        vertical-align: top;\n",
       "    }\n",
       "\n",
       "    .dataframe thead th {\n",
       "        text-align: right;\n",
       "    }\n",
       "</style>\n",
       "<table border=\"1\" class=\"dataframe\">\n",
       "  <thead>\n",
       "    <tr style=\"text-align: right;\">\n",
       "      <th></th>\n",
       "      <th>Temperature</th>\n",
       "      <th>RH</th>\n",
       "      <th>Ws</th>\n",
       "      <th>Rain</th>\n",
       "      <th>FFMC</th>\n",
       "      <th>DMC</th>\n",
       "      <th>DC</th>\n",
       "      <th>ISI</th>\n",
       "      <th>BUI</th>\n",
       "      <th>FWI</th>\n",
       "      <th>Classes</th>\n",
       "      <th>Region</th>\n",
       "    </tr>\n",
       "  </thead>\n",
       "  <tbody>\n",
       "    <tr>\n",
       "      <th>0</th>\n",
       "      <td>29</td>\n",
       "      <td>57</td>\n",
       "      <td>18</td>\n",
       "      <td>0.0</td>\n",
       "      <td>65.7</td>\n",
       "      <td>3.4</td>\n",
       "      <td>7.6</td>\n",
       "      <td>1.3</td>\n",
       "      <td>3.4</td>\n",
       "      <td>0.5</td>\n",
       "      <td>not fire</td>\n",
       "      <td>0</td>\n",
       "    </tr>\n",
       "    <tr>\n",
       "      <th>1</th>\n",
       "      <td>29</td>\n",
       "      <td>61</td>\n",
       "      <td>13</td>\n",
       "      <td>1.3</td>\n",
       "      <td>64.4</td>\n",
       "      <td>4.1</td>\n",
       "      <td>7.6</td>\n",
       "      <td>1.0</td>\n",
       "      <td>3.9</td>\n",
       "      <td>0.4</td>\n",
       "      <td>not fire</td>\n",
       "      <td>0</td>\n",
       "    </tr>\n",
       "    <tr>\n",
       "      <th>2</th>\n",
       "      <td>26</td>\n",
       "      <td>82</td>\n",
       "      <td>22</td>\n",
       "      <td>13.1</td>\n",
       "      <td>47.1</td>\n",
       "      <td>2.5</td>\n",
       "      <td>7.1</td>\n",
       "      <td>0.3</td>\n",
       "      <td>2.7</td>\n",
       "      <td>0.1</td>\n",
       "      <td>not fire</td>\n",
       "      <td>0</td>\n",
       "    </tr>\n",
       "    <tr>\n",
       "      <th>3</th>\n",
       "      <td>25</td>\n",
       "      <td>89</td>\n",
       "      <td>13</td>\n",
       "      <td>2.5</td>\n",
       "      <td>28.6</td>\n",
       "      <td>1.3</td>\n",
       "      <td>6.9</td>\n",
       "      <td>0.0</td>\n",
       "      <td>1.7</td>\n",
       "      <td>0.0</td>\n",
       "      <td>not fire</td>\n",
       "      <td>0</td>\n",
       "    </tr>\n",
       "    <tr>\n",
       "      <th>4</th>\n",
       "      <td>27</td>\n",
       "      <td>77</td>\n",
       "      <td>16</td>\n",
       "      <td>0.0</td>\n",
       "      <td>64.8</td>\n",
       "      <td>3.0</td>\n",
       "      <td>14.2</td>\n",
       "      <td>1.2</td>\n",
       "      <td>3.9</td>\n",
       "      <td>0.5</td>\n",
       "      <td>not fire</td>\n",
       "      <td>0</td>\n",
       "    </tr>\n",
       "  </tbody>\n",
       "</table>\n",
       "</div>"
      ]
     },
     "execution_count": 32,
     "metadata": {},
     "output_type": "execute_result"
    }
   ],
   "execution_count": 32
  },
  {
   "metadata": {
    "ExecuteTime": {
     "end_time": "2024-12-06T10:33:37.098095Z",
     "start_time": "2024-12-06T10:33:37.092576Z"
    }
   },
   "cell_type": "code",
   "source": "df2.Classes.value_counts()",
   "id": "b69d9b690a7336dd",
   "outputs": [
    {
     "data": {
      "text/plain": [
       "Classes\n",
       "fire             131\n",
       "not fire         101\n",
       "fire               4\n",
       "fire               2\n",
       "not fire           2\n",
       "not fire           1\n",
       "not fire           1\n",
       "not fire           1\n",
       "Name: count, dtype: int64"
      ]
     },
     "execution_count": 33,
     "metadata": {},
     "output_type": "execute_result"
    }
   ],
   "execution_count": 33
  },
  {
   "metadata": {
    "ExecuteTime": {
     "end_time": "2024-12-06T10:33:37.401537Z",
     "start_time": "2024-12-06T10:33:37.396823Z"
    }
   },
   "cell_type": "code",
   "source": [
    "## Encoding the categories in Classes\n",
    "df2['Classes'] = np.where(df2['Classes'].str.contains('not fire'),0,1)"
   ],
   "id": "58d609878c959973",
   "outputs": [],
   "execution_count": 34
  },
  {
   "metadata": {
    "ExecuteTime": {
     "end_time": "2024-12-06T10:33:37.737387Z",
     "start_time": "2024-12-06T10:33:37.727681Z"
    }
   },
   "cell_type": "code",
   "source": "df2.head()",
   "id": "1144acc991becd95",
   "outputs": [
    {
     "data": {
      "text/plain": [
       "   Temperature  RH  Ws  Rain  FFMC  DMC    DC  ISI  BUI  FWI  Classes  Region\n",
       "0           29  57  18   0.0  65.7  3.4   7.6  1.3  3.4  0.5        0       0\n",
       "1           29  61  13   1.3  64.4  4.1   7.6  1.0  3.9  0.4        0       0\n",
       "2           26  82  22  13.1  47.1  2.5   7.1  0.3  2.7  0.1        0       0\n",
       "3           25  89  13   2.5  28.6  1.3   6.9  0.0  1.7  0.0        0       0\n",
       "4           27  77  16   0.0  64.8  3.0  14.2  1.2  3.9  0.5        0       0"
      ],
      "text/html": [
       "<div>\n",
       "<style scoped>\n",
       "    .dataframe tbody tr th:only-of-type {\n",
       "        vertical-align: middle;\n",
       "    }\n",
       "\n",
       "    .dataframe tbody tr th {\n",
       "        vertical-align: top;\n",
       "    }\n",
       "\n",
       "    .dataframe thead th {\n",
       "        text-align: right;\n",
       "    }\n",
       "</style>\n",
       "<table border=\"1\" class=\"dataframe\">\n",
       "  <thead>\n",
       "    <tr style=\"text-align: right;\">\n",
       "      <th></th>\n",
       "      <th>Temperature</th>\n",
       "      <th>RH</th>\n",
       "      <th>Ws</th>\n",
       "      <th>Rain</th>\n",
       "      <th>FFMC</th>\n",
       "      <th>DMC</th>\n",
       "      <th>DC</th>\n",
       "      <th>ISI</th>\n",
       "      <th>BUI</th>\n",
       "      <th>FWI</th>\n",
       "      <th>Classes</th>\n",
       "      <th>Region</th>\n",
       "    </tr>\n",
       "  </thead>\n",
       "  <tbody>\n",
       "    <tr>\n",
       "      <th>0</th>\n",
       "      <td>29</td>\n",
       "      <td>57</td>\n",
       "      <td>18</td>\n",
       "      <td>0.0</td>\n",
       "      <td>65.7</td>\n",
       "      <td>3.4</td>\n",
       "      <td>7.6</td>\n",
       "      <td>1.3</td>\n",
       "      <td>3.4</td>\n",
       "      <td>0.5</td>\n",
       "      <td>0</td>\n",
       "      <td>0</td>\n",
       "    </tr>\n",
       "    <tr>\n",
       "      <th>1</th>\n",
       "      <td>29</td>\n",
       "      <td>61</td>\n",
       "      <td>13</td>\n",
       "      <td>1.3</td>\n",
       "      <td>64.4</td>\n",
       "      <td>4.1</td>\n",
       "      <td>7.6</td>\n",
       "      <td>1.0</td>\n",
       "      <td>3.9</td>\n",
       "      <td>0.4</td>\n",
       "      <td>0</td>\n",
       "      <td>0</td>\n",
       "    </tr>\n",
       "    <tr>\n",
       "      <th>2</th>\n",
       "      <td>26</td>\n",
       "      <td>82</td>\n",
       "      <td>22</td>\n",
       "      <td>13.1</td>\n",
       "      <td>47.1</td>\n",
       "      <td>2.5</td>\n",
       "      <td>7.1</td>\n",
       "      <td>0.3</td>\n",
       "      <td>2.7</td>\n",
       "      <td>0.1</td>\n",
       "      <td>0</td>\n",
       "      <td>0</td>\n",
       "    </tr>\n",
       "    <tr>\n",
       "      <th>3</th>\n",
       "      <td>25</td>\n",
       "      <td>89</td>\n",
       "      <td>13</td>\n",
       "      <td>2.5</td>\n",
       "      <td>28.6</td>\n",
       "      <td>1.3</td>\n",
       "      <td>6.9</td>\n",
       "      <td>0.0</td>\n",
       "      <td>1.7</td>\n",
       "      <td>0.0</td>\n",
       "      <td>0</td>\n",
       "      <td>0</td>\n",
       "    </tr>\n",
       "    <tr>\n",
       "      <th>4</th>\n",
       "      <td>27</td>\n",
       "      <td>77</td>\n",
       "      <td>16</td>\n",
       "      <td>0.0</td>\n",
       "      <td>64.8</td>\n",
       "      <td>3.0</td>\n",
       "      <td>14.2</td>\n",
       "      <td>1.2</td>\n",
       "      <td>3.9</td>\n",
       "      <td>0.5</td>\n",
       "      <td>0</td>\n",
       "      <td>0</td>\n",
       "    </tr>\n",
       "  </tbody>\n",
       "</table>\n",
       "</div>"
      ]
     },
     "execution_count": 35,
     "metadata": {},
     "output_type": "execute_result"
    }
   ],
   "execution_count": 35
  },
  {
   "metadata": {
    "ExecuteTime": {
     "end_time": "2024-12-06T10:33:38.072617Z",
     "start_time": "2024-12-06T10:33:38.065443Z"
    }
   },
   "cell_type": "code",
   "source": "df2.info()",
   "id": "acef23224e9e84ab",
   "outputs": [
    {
     "name": "stdout",
     "output_type": "stream",
     "text": [
      "<class 'pandas.core.frame.DataFrame'>\n",
      "RangeIndex: 243 entries, 0 to 242\n",
      "Data columns (total 12 columns):\n",
      " #   Column       Non-Null Count  Dtype  \n",
      "---  ------       --------------  -----  \n",
      " 0   Temperature  243 non-null    int64  \n",
      " 1   RH           243 non-null    int64  \n",
      " 2   Ws           243 non-null    int64  \n",
      " 3   Rain         243 non-null    float64\n",
      " 4   FFMC         243 non-null    float64\n",
      " 5   DMC          243 non-null    float64\n",
      " 6   DC           243 non-null    float64\n",
      " 7   ISI          243 non-null    float64\n",
      " 8   BUI          243 non-null    float64\n",
      " 9   FWI          243 non-null    float64\n",
      " 10  Classes      243 non-null    int32  \n",
      " 11  Region       243 non-null    int64  \n",
      "dtypes: float64(7), int32(1), int64(4)\n",
      "memory usage: 22.0 KB\n"
     ]
    }
   ],
   "execution_count": 36
  },
  {
   "metadata": {},
   "cell_type": "markdown",
   "source": "# Model Training using Ridge, Lasso and Elasticnet Regression",
   "id": "d8aa31fd6d7a7975"
  },
  {
   "metadata": {},
   "cell_type": "markdown",
   "source": "# Feature Selection",
   "id": "ec239140f3af0a20"
  },
  {
   "metadata": {
    "ExecuteTime": {
     "end_time": "2024-12-06T10:39:03.106419Z",
     "start_time": "2024-12-06T10:39:03.103197Z"
    }
   },
   "cell_type": "code",
   "source": [
    "def correlation(dataset, threshold):\n",
    "    col_corr = set()\n",
    "    corr_matrix = dataset.corr()\n",
    "    for i in range(len(corr_matrix.columns)):\n",
    "        for j in range(i):\n",
    "            if abs(corr_matrix.iloc[i,j]) > threshold:\n",
    "                colname = corr_matrix.columns[i]\n",
    "                col_corr.add(colname)\n",
    "    return col_corr\n",
    "            "
   ],
   "id": "912fd7e84dbd76ab",
   "outputs": [],
   "execution_count": 44
  },
  {
   "metadata": {
    "ExecuteTime": {
     "end_time": "2024-12-06T10:39:03.538077Z",
     "start_time": "2024-12-06T10:39:03.534478Z"
    }
   },
   "cell_type": "code",
   "source": "from sklearn.model_selection import train_test_split",
   "id": "19b97b1bdf6c827b",
   "outputs": [],
   "execution_count": 45
  },
  {
   "metadata": {
    "ExecuteTime": {
     "end_time": "2024-12-06T10:39:03.901980Z",
     "start_time": "2024-12-06T10:39:03.898106Z"
    }
   },
   "cell_type": "code",
   "source": "X_train,X_test,Y_train,Y_test = train_test_split(df2,df2['Classes'],random_state=0)    ",
   "id": "8b8e804948d477d1",
   "outputs": [],
   "execution_count": 46
  },
  {
   "metadata": {
    "ExecuteTime": {
     "end_time": "2024-12-06T10:39:04.442034Z",
     "start_time": "2024-12-06T10:39:04.437277Z"
    }
   },
   "cell_type": "code",
   "source": "corr_features = correlation(X_train,0.85)",
   "id": "7372113ee6b01907",
   "outputs": [],
   "execution_count": 47
  },
  {
   "metadata": {
    "ExecuteTime": {
     "end_time": "2024-12-06T10:39:05.399571Z",
     "start_time": "2024-12-06T10:39:05.387247Z"
    }
   },
   "cell_type": "code",
   "source": "X_train.corr()",
   "id": "8da9933dc0466f3a",
   "outputs": [
    {
     "data": {
      "text/plain": [
       "             Temperature        RH        Ws      Rain      FFMC       DMC  \\\n",
       "Temperature     1.000000 -0.657325 -0.357016 -0.365941  0.684556  0.482965   \n",
       "RH             -0.657325  1.000000  0.262581  0.275592 -0.653649 -0.393893   \n",
       "Ws             -0.357016  0.262581  1.000000  0.204035 -0.226129 -0.010158   \n",
       "Rain           -0.365941  0.275592  0.204035  1.000000 -0.589465 -0.300364   \n",
       "FFMC            0.684556 -0.653649 -0.226129 -0.589465  1.000000  0.621958   \n",
       "DMC             0.482965 -0.393893 -0.010158 -0.300364  0.621958  1.000000   \n",
       "DC              0.349021 -0.203883  0.079699 -0.302591  0.528275  0.884417   \n",
       "ISI             0.618172 -0.712353 -0.018845 -0.347660  0.742079  0.680918   \n",
       "BUI             0.447959 -0.333027  0.023680 -0.308258  0.606527  0.984222   \n",
       "FWI             0.575406 -0.594299  0.013239 -0.326426  0.704563  0.882314   \n",
       "Classes         0.512299 -0.446906 -0.108246 -0.393221  0.773444  0.629505   \n",
       "Region          0.296033 -0.427696 -0.191245 -0.086938  0.267099  0.175711   \n",
       "\n",
       "                   DC       ISI       BUI       FWI   Classes    Region  \n",
       "Temperature  0.349021  0.618172  0.447959  0.575406  0.512299  0.296033  \n",
       "RH          -0.203883 -0.712353 -0.333027 -0.594299 -0.446906 -0.427696  \n",
       "Ws           0.079699 -0.018845  0.023680  0.013239 -0.108246 -0.191245  \n",
       "Rain        -0.302591 -0.347660 -0.308258 -0.326426 -0.393221 -0.086938  \n",
       "FFMC         0.528275  0.742079  0.606527  0.704563  0.773444  0.267099  \n",
       "DMC          0.884417  0.680918  0.984222  0.882314  0.629505  0.175711  \n",
       "DC           1.000000  0.501412  0.951157  0.746551  0.562431 -0.080660  \n",
       "ISI          0.501412  1.000000  0.632285  0.918573  0.747764  0.312299  \n",
       "BUI          0.951157  0.632285  1.000000  0.855633  0.624037  0.079373  \n",
       "FWI          0.746551  0.918573  0.855633  1.000000  0.747380  0.222943  \n",
       "Classes      0.562431  0.747764  0.624037  0.747380  1.000000  0.201988  \n",
       "Region      -0.080660  0.312299  0.079373  0.222943  0.201988  1.000000  "
      ],
      "text/html": [
       "<div>\n",
       "<style scoped>\n",
       "    .dataframe tbody tr th:only-of-type {\n",
       "        vertical-align: middle;\n",
       "    }\n",
       "\n",
       "    .dataframe tbody tr th {\n",
       "        vertical-align: top;\n",
       "    }\n",
       "\n",
       "    .dataframe thead th {\n",
       "        text-align: right;\n",
       "    }\n",
       "</style>\n",
       "<table border=\"1\" class=\"dataframe\">\n",
       "  <thead>\n",
       "    <tr style=\"text-align: right;\">\n",
       "      <th></th>\n",
       "      <th>Temperature</th>\n",
       "      <th>RH</th>\n",
       "      <th>Ws</th>\n",
       "      <th>Rain</th>\n",
       "      <th>FFMC</th>\n",
       "      <th>DMC</th>\n",
       "      <th>DC</th>\n",
       "      <th>ISI</th>\n",
       "      <th>BUI</th>\n",
       "      <th>FWI</th>\n",
       "      <th>Classes</th>\n",
       "      <th>Region</th>\n",
       "    </tr>\n",
       "  </thead>\n",
       "  <tbody>\n",
       "    <tr>\n",
       "      <th>Temperature</th>\n",
       "      <td>1.000000</td>\n",
       "      <td>-0.657325</td>\n",
       "      <td>-0.357016</td>\n",
       "      <td>-0.365941</td>\n",
       "      <td>0.684556</td>\n",
       "      <td>0.482965</td>\n",
       "      <td>0.349021</td>\n",
       "      <td>0.618172</td>\n",
       "      <td>0.447959</td>\n",
       "      <td>0.575406</td>\n",
       "      <td>0.512299</td>\n",
       "      <td>0.296033</td>\n",
       "    </tr>\n",
       "    <tr>\n",
       "      <th>RH</th>\n",
       "      <td>-0.657325</td>\n",
       "      <td>1.000000</td>\n",
       "      <td>0.262581</td>\n",
       "      <td>0.275592</td>\n",
       "      <td>-0.653649</td>\n",
       "      <td>-0.393893</td>\n",
       "      <td>-0.203883</td>\n",
       "      <td>-0.712353</td>\n",
       "      <td>-0.333027</td>\n",
       "      <td>-0.594299</td>\n",
       "      <td>-0.446906</td>\n",
       "      <td>-0.427696</td>\n",
       "    </tr>\n",
       "    <tr>\n",
       "      <th>Ws</th>\n",
       "      <td>-0.357016</td>\n",
       "      <td>0.262581</td>\n",
       "      <td>1.000000</td>\n",
       "      <td>0.204035</td>\n",
       "      <td>-0.226129</td>\n",
       "      <td>-0.010158</td>\n",
       "      <td>0.079699</td>\n",
       "      <td>-0.018845</td>\n",
       "      <td>0.023680</td>\n",
       "      <td>0.013239</td>\n",
       "      <td>-0.108246</td>\n",
       "      <td>-0.191245</td>\n",
       "    </tr>\n",
       "    <tr>\n",
       "      <th>Rain</th>\n",
       "      <td>-0.365941</td>\n",
       "      <td>0.275592</td>\n",
       "      <td>0.204035</td>\n",
       "      <td>1.000000</td>\n",
       "      <td>-0.589465</td>\n",
       "      <td>-0.300364</td>\n",
       "      <td>-0.302591</td>\n",
       "      <td>-0.347660</td>\n",
       "      <td>-0.308258</td>\n",
       "      <td>-0.326426</td>\n",
       "      <td>-0.393221</td>\n",
       "      <td>-0.086938</td>\n",
       "    </tr>\n",
       "    <tr>\n",
       "      <th>FFMC</th>\n",
       "      <td>0.684556</td>\n",
       "      <td>-0.653649</td>\n",
       "      <td>-0.226129</td>\n",
       "      <td>-0.589465</td>\n",
       "      <td>1.000000</td>\n",
       "      <td>0.621958</td>\n",
       "      <td>0.528275</td>\n",
       "      <td>0.742079</td>\n",
       "      <td>0.606527</td>\n",
       "      <td>0.704563</td>\n",
       "      <td>0.773444</td>\n",
       "      <td>0.267099</td>\n",
       "    </tr>\n",
       "    <tr>\n",
       "      <th>DMC</th>\n",
       "      <td>0.482965</td>\n",
       "      <td>-0.393893</td>\n",
       "      <td>-0.010158</td>\n",
       "      <td>-0.300364</td>\n",
       "      <td>0.621958</td>\n",
       "      <td>1.000000</td>\n",
       "      <td>0.884417</td>\n",
       "      <td>0.680918</td>\n",
       "      <td>0.984222</td>\n",
       "      <td>0.882314</td>\n",
       "      <td>0.629505</td>\n",
       "      <td>0.175711</td>\n",
       "    </tr>\n",
       "    <tr>\n",
       "      <th>DC</th>\n",
       "      <td>0.349021</td>\n",
       "      <td>-0.203883</td>\n",
       "      <td>0.079699</td>\n",
       "      <td>-0.302591</td>\n",
       "      <td>0.528275</td>\n",
       "      <td>0.884417</td>\n",
       "      <td>1.000000</td>\n",
       "      <td>0.501412</td>\n",
       "      <td>0.951157</td>\n",
       "      <td>0.746551</td>\n",
       "      <td>0.562431</td>\n",
       "      <td>-0.080660</td>\n",
       "    </tr>\n",
       "    <tr>\n",
       "      <th>ISI</th>\n",
       "      <td>0.618172</td>\n",
       "      <td>-0.712353</td>\n",
       "      <td>-0.018845</td>\n",
       "      <td>-0.347660</td>\n",
       "      <td>0.742079</td>\n",
       "      <td>0.680918</td>\n",
       "      <td>0.501412</td>\n",
       "      <td>1.000000</td>\n",
       "      <td>0.632285</td>\n",
       "      <td>0.918573</td>\n",
       "      <td>0.747764</td>\n",
       "      <td>0.312299</td>\n",
       "    </tr>\n",
       "    <tr>\n",
       "      <th>BUI</th>\n",
       "      <td>0.447959</td>\n",
       "      <td>-0.333027</td>\n",
       "      <td>0.023680</td>\n",
       "      <td>-0.308258</td>\n",
       "      <td>0.606527</td>\n",
       "      <td>0.984222</td>\n",
       "      <td>0.951157</td>\n",
       "      <td>0.632285</td>\n",
       "      <td>1.000000</td>\n",
       "      <td>0.855633</td>\n",
       "      <td>0.624037</td>\n",
       "      <td>0.079373</td>\n",
       "    </tr>\n",
       "    <tr>\n",
       "      <th>FWI</th>\n",
       "      <td>0.575406</td>\n",
       "      <td>-0.594299</td>\n",
       "      <td>0.013239</td>\n",
       "      <td>-0.326426</td>\n",
       "      <td>0.704563</td>\n",
       "      <td>0.882314</td>\n",
       "      <td>0.746551</td>\n",
       "      <td>0.918573</td>\n",
       "      <td>0.855633</td>\n",
       "      <td>1.000000</td>\n",
       "      <td>0.747380</td>\n",
       "      <td>0.222943</td>\n",
       "    </tr>\n",
       "    <tr>\n",
       "      <th>Classes</th>\n",
       "      <td>0.512299</td>\n",
       "      <td>-0.446906</td>\n",
       "      <td>-0.108246</td>\n",
       "      <td>-0.393221</td>\n",
       "      <td>0.773444</td>\n",
       "      <td>0.629505</td>\n",
       "      <td>0.562431</td>\n",
       "      <td>0.747764</td>\n",
       "      <td>0.624037</td>\n",
       "      <td>0.747380</td>\n",
       "      <td>1.000000</td>\n",
       "      <td>0.201988</td>\n",
       "    </tr>\n",
       "    <tr>\n",
       "      <th>Region</th>\n",
       "      <td>0.296033</td>\n",
       "      <td>-0.427696</td>\n",
       "      <td>-0.191245</td>\n",
       "      <td>-0.086938</td>\n",
       "      <td>0.267099</td>\n",
       "      <td>0.175711</td>\n",
       "      <td>-0.080660</td>\n",
       "      <td>0.312299</td>\n",
       "      <td>0.079373</td>\n",
       "      <td>0.222943</td>\n",
       "      <td>0.201988</td>\n",
       "      <td>1.000000</td>\n",
       "    </tr>\n",
       "  </tbody>\n",
       "</table>\n",
       "</div>"
      ]
     },
     "execution_count": 48,
     "metadata": {},
     "output_type": "execute_result"
    }
   ],
   "execution_count": 48
  },
  {
   "metadata": {
    "ExecuteTime": {
     "end_time": "2024-12-06T10:39:15.489417Z",
     "start_time": "2024-12-06T10:39:15.484385Z"
    }
   },
   "cell_type": "code",
   "source": "corr_features",
   "id": "d12c28423a6f161e",
   "outputs": [
    {
     "data": {
      "text/plain": [
       "{'BUI', 'DC', 'FWI'}"
      ]
     },
     "execution_count": 49,
     "metadata": {},
     "output_type": "execute_result"
    }
   ],
   "execution_count": 49
  },
  {
   "metadata": {
    "ExecuteTime": {
     "end_time": "2024-12-06T10:39:50.285086Z",
     "start_time": "2024-12-06T10:39:50.280961Z"
    }
   },
   "cell_type": "code",
   "source": [
    "X_train.drop(corr_features,axis=1,inplace=True)\n",
    "X_test.drop(corr_features,axis=1,inplace=True)"
   ],
   "id": "3d2e4fcb8f039b8c",
   "outputs": [],
   "execution_count": 50
  },
  {
   "metadata": {
    "ExecuteTime": {
     "end_time": "2024-12-06T10:40:58.590530Z",
     "start_time": "2024-12-06T10:40:58.580231Z"
    }
   },
   "cell_type": "code",
   "source": "X_train",
   "id": "d0c30a36b69b4cea",
   "outputs": [
    {
     "data": {
      "text/plain": [
       "     Temperature  RH  Ws  Rain  FFMC   DMC   ISI  Classes  Region\n",
       "230           36  33  13   0.1  90.6  25.8   9.0        1       1\n",
       "218           34  71  14   6.5  64.5   3.3   1.0        0       1\n",
       "184           39  33  17   0.0  93.7  17.1  17.2        1       1\n",
       "233           35  34  17   0.0  92.2  23.6  13.8        1       1\n",
       "204           36  43  16   0.0  91.2  46.1  11.5        1       1\n",
       "..           ...  ..  ..   ...   ...   ...   ...      ...     ...\n",
       "67            32  69  16   0.0  86.5  15.5   5.5        1       0\n",
       "192           40  31  15   0.0  94.2  22.5  16.6        1       1\n",
       "117           31  54  11   0.0  82.0   6.0   2.5        0       0\n",
       "47            31  68  14   0.0  85.4  12.1   4.6        1       0\n",
       "172           32  48  18   0.0  91.5  44.2  13.2        1       1\n",
       "\n",
       "[182 rows x 9 columns]"
      ],
      "text/html": [
       "<div>\n",
       "<style scoped>\n",
       "    .dataframe tbody tr th:only-of-type {\n",
       "        vertical-align: middle;\n",
       "    }\n",
       "\n",
       "    .dataframe tbody tr th {\n",
       "        vertical-align: top;\n",
       "    }\n",
       "\n",
       "    .dataframe thead th {\n",
       "        text-align: right;\n",
       "    }\n",
       "</style>\n",
       "<table border=\"1\" class=\"dataframe\">\n",
       "  <thead>\n",
       "    <tr style=\"text-align: right;\">\n",
       "      <th></th>\n",
       "      <th>Temperature</th>\n",
       "      <th>RH</th>\n",
       "      <th>Ws</th>\n",
       "      <th>Rain</th>\n",
       "      <th>FFMC</th>\n",
       "      <th>DMC</th>\n",
       "      <th>ISI</th>\n",
       "      <th>Classes</th>\n",
       "      <th>Region</th>\n",
       "    </tr>\n",
       "  </thead>\n",
       "  <tbody>\n",
       "    <tr>\n",
       "      <th>230</th>\n",
       "      <td>36</td>\n",
       "      <td>33</td>\n",
       "      <td>13</td>\n",
       "      <td>0.1</td>\n",
       "      <td>90.6</td>\n",
       "      <td>25.8</td>\n",
       "      <td>9.0</td>\n",
       "      <td>1</td>\n",
       "      <td>1</td>\n",
       "    </tr>\n",
       "    <tr>\n",
       "      <th>218</th>\n",
       "      <td>34</td>\n",
       "      <td>71</td>\n",
       "      <td>14</td>\n",
       "      <td>6.5</td>\n",
       "      <td>64.5</td>\n",
       "      <td>3.3</td>\n",
       "      <td>1.0</td>\n",
       "      <td>0</td>\n",
       "      <td>1</td>\n",
       "    </tr>\n",
       "    <tr>\n",
       "      <th>184</th>\n",
       "      <td>39</td>\n",
       "      <td>33</td>\n",
       "      <td>17</td>\n",
       "      <td>0.0</td>\n",
       "      <td>93.7</td>\n",
       "      <td>17.1</td>\n",
       "      <td>17.2</td>\n",
       "      <td>1</td>\n",
       "      <td>1</td>\n",
       "    </tr>\n",
       "    <tr>\n",
       "      <th>233</th>\n",
       "      <td>35</td>\n",
       "      <td>34</td>\n",
       "      <td>17</td>\n",
       "      <td>0.0</td>\n",
       "      <td>92.2</td>\n",
       "      <td>23.6</td>\n",
       "      <td>13.8</td>\n",
       "      <td>1</td>\n",
       "      <td>1</td>\n",
       "    </tr>\n",
       "    <tr>\n",
       "      <th>204</th>\n",
       "      <td>36</td>\n",
       "      <td>43</td>\n",
       "      <td>16</td>\n",
       "      <td>0.0</td>\n",
       "      <td>91.2</td>\n",
       "      <td>46.1</td>\n",
       "      <td>11.5</td>\n",
       "      <td>1</td>\n",
       "      <td>1</td>\n",
       "    </tr>\n",
       "    <tr>\n",
       "      <th>...</th>\n",
       "      <td>...</td>\n",
       "      <td>...</td>\n",
       "      <td>...</td>\n",
       "      <td>...</td>\n",
       "      <td>...</td>\n",
       "      <td>...</td>\n",
       "      <td>...</td>\n",
       "      <td>...</td>\n",
       "      <td>...</td>\n",
       "    </tr>\n",
       "    <tr>\n",
       "      <th>67</th>\n",
       "      <td>32</td>\n",
       "      <td>69</td>\n",
       "      <td>16</td>\n",
       "      <td>0.0</td>\n",
       "      <td>86.5</td>\n",
       "      <td>15.5</td>\n",
       "      <td>5.5</td>\n",
       "      <td>1</td>\n",
       "      <td>0</td>\n",
       "    </tr>\n",
       "    <tr>\n",
       "      <th>192</th>\n",
       "      <td>40</td>\n",
       "      <td>31</td>\n",
       "      <td>15</td>\n",
       "      <td>0.0</td>\n",
       "      <td>94.2</td>\n",
       "      <td>22.5</td>\n",
       "      <td>16.6</td>\n",
       "      <td>1</td>\n",
       "      <td>1</td>\n",
       "    </tr>\n",
       "    <tr>\n",
       "      <th>117</th>\n",
       "      <td>31</td>\n",
       "      <td>54</td>\n",
       "      <td>11</td>\n",
       "      <td>0.0</td>\n",
       "      <td>82.0</td>\n",
       "      <td>6.0</td>\n",
       "      <td>2.5</td>\n",
       "      <td>0</td>\n",
       "      <td>0</td>\n",
       "    </tr>\n",
       "    <tr>\n",
       "      <th>47</th>\n",
       "      <td>31</td>\n",
       "      <td>68</td>\n",
       "      <td>14</td>\n",
       "      <td>0.0</td>\n",
       "      <td>85.4</td>\n",
       "      <td>12.1</td>\n",
       "      <td>4.6</td>\n",
       "      <td>1</td>\n",
       "      <td>0</td>\n",
       "    </tr>\n",
       "    <tr>\n",
       "      <th>172</th>\n",
       "      <td>32</td>\n",
       "      <td>48</td>\n",
       "      <td>18</td>\n",
       "      <td>0.0</td>\n",
       "      <td>91.5</td>\n",
       "      <td>44.2</td>\n",
       "      <td>13.2</td>\n",
       "      <td>1</td>\n",
       "      <td>1</td>\n",
       "    </tr>\n",
       "  </tbody>\n",
       "</table>\n",
       "<p>182 rows × 9 columns</p>\n",
       "</div>"
      ]
     },
     "execution_count": 52,
     "metadata": {},
     "output_type": "execute_result"
    }
   ],
   "execution_count": 52
  },
  {
   "metadata": {},
   "cell_type": "markdown",
   "source": "# Feature Scaling and Standardization",
   "id": "5e42d2346799c3e1"
  },
  {
   "metadata": {
    "ExecuteTime": {
     "end_time": "2024-12-06T10:42:35.417003Z",
     "start_time": "2024-12-06T10:42:35.414157Z"
    }
   },
   "cell_type": "code",
   "source": "from sklearn.preprocessing import StandardScaler",
   "id": "c3e5497ed343e60a",
   "outputs": [],
   "execution_count": 54
  },
  {
   "metadata": {
    "ExecuteTime": {
     "end_time": "2024-12-06T10:43:11.908127Z",
     "start_time": "2024-12-06T10:43:11.902048Z"
    }
   },
   "cell_type": "code",
   "source": [
    "scaler = StandardScaler()\n",
    "X_train_scaled = scaler.fit_transform(X_train)\n",
    "X_test_scaled = scaler.transform(X_test)"
   ],
   "id": "62df5e3ce97439e4",
   "outputs": [],
   "execution_count": 56
  },
  {
   "metadata": {
    "ExecuteTime": {
     "end_time": "2024-12-06T10:43:23.780083Z",
     "start_time": "2024-12-06T10:43:23.776476Z"
    }
   },
   "cell_type": "code",
   "source": "X_train_scaled.shape",
   "id": "2a3003131085364d",
   "outputs": [
    {
     "data": {
      "text/plain": [
       "(182, 9)"
      ]
     },
     "execution_count": 57,
     "metadata": {},
     "output_type": "execute_result"
    }
   ],
   "execution_count": 57
  },
  {
   "metadata": {},
   "cell_type": "markdown",
   "source": "# Box Plot to understand Effect of StandardScaler",
   "id": "f8c4eb7f6d436083"
  },
  {
   "metadata": {
    "ExecuteTime": {
     "end_time": "2024-12-06T10:48:48.715563Z",
     "start_time": "2024-12-06T10:48:48.290366Z"
    }
   },
   "cell_type": "code",
   "source": [
    "plt.subplots(figsize = (15,5))\n",
    "plt.subplot(1,2,1)\n",
    "sns.boxplot(data=X_train)\n",
    "plt.title(\"X_train before Scaling\")\n",
    "plt.subplot(1,2,2)\n",
    "sns.boxplot(data=X_train_scaled)\n",
    "plt.title(\"X_train after Scaling\")"
   ],
   "id": "5dfc12411507625c",
   "outputs": [
    {
     "data": {
      "text/plain": [
       "Text(0.5, 1.0, 'X_train after Scaling')"
      ]
     },
     "execution_count": 61,
     "metadata": {},
     "output_type": "execute_result"
    },
    {
     "data": {
      "text/plain": [
       "<Figure size 1500x500 with 3 Axes>"
      ],
      "image/png": "[encoded data removed]"
     },
     "metadata": {},
     "output_type": "display_data"
    }
   ],
   "execution_count": 61
  },
  {
   "metadata": {},
   "cell_type": "markdown",
   "source": "# Linear Regression Model    ",
   "id": "aa72d542cfe6d79f"
  },
  {
   "metadata": {
    "ExecuteTime": {
     "end_time": "2024-12-06T10:51:14.420718Z",
     "start_time": "2024-12-06T10:51:14.347220Z"
    }
   },
   "cell_type": "code",
   "source": "from sklearn.linear_model import LinearRegression",
   "id": "515435e9109588a5",
   "outputs": [],
   "execution_count": 62
  },
  {
   "metadata": {
    "ExecuteTime": {
     "end_time": "2024-12-06T10:52:31.932353Z",
     "start_time": "2024-12-06T10:52:31.927921Z"
    }
   },
   "cell_type": "code",
   "source": [
    "from sklearn.metrics import mean_squared_error\n",
    "from sklearn.metrics import r2_score\n",
    "from sklearn.metrics import mean_absolute_error\n",
    "from sklearn.metrics import root_mean_squared_error"
   ],
   "id": "4e3a057797ac60c7",
   "outputs": [],
   "execution_count": 63
  },
  {
   "metadata": {
    "ExecuteTime": {
     "end_time": "2024-12-06T10:52:44.393123Z",
     "start_time": "2024-12-06T10:52:44.390434Z"
    }
   },
   "cell_type": "code",
   "source": "linear_reg = LinearRegression()",
   "id": "20ef340f5d773311",
   "outputs": [],
   "execution_count": 64
  },
  {
   "metadata": {
    "ExecuteTime": {
     "end_time": "2024-12-06T11:00:26.357310Z",
     "start_time": "2024-12-06T11:00:26.350183Z"
    }
   },
   "cell_type": "code",
   "source": [
    "linear_reg.fit(X_train_scaled,Y_train)\n",
    "y_pred = linear_reg.predict(X_train_scaled)\n",
    "\n",
    "mae = mean_absolute_error(Y_train,y_pred)\n",
    "r2 = r2_score(Y_train,y_pred)\n",
    "rmse = root_mean_squared_error(Y_train,y_pred)\n",
    "mse = mean_squared_error(Y_train,y_pred)\n",
    "\n",
    "print(y_pred)\n",
    "print(mse,rmse,mae,r2)"
   ],
   "id": "cf7afe718de0b9fc",
   "outputs": [
    {
     "name": "stdout",
     "output_type": "stream",
     "text": [
      "[ 1.00000000e+00  0.00000000e+00  1.00000000e+00  1.00000000e+00\n",
      "  1.00000000e+00 -2.22044605e-16 -5.55111512e-16  1.00000000e+00\n",
      "  1.00000000e+00  1.00000000e+00 -3.33066907e-16  1.00000000e+00\n",
      "  0.00000000e+00 -6.66133815e-16 -6.66133815e-16  1.00000000e+00\n",
      "  1.00000000e+00 -2.22044605e-16 -5.55111512e-16  1.00000000e+00\n",
      "  1.11022302e-16 -4.44089210e-16 -6.66133815e-16 -4.44089210e-16\n",
      "  1.00000000e+00 -5.55111512e-16 -1.11022302e-16  1.00000000e+00\n",
      "  1.00000000e+00  0.00000000e+00  0.00000000e+00 -3.33066907e-16\n",
      "  1.00000000e+00  1.00000000e+00  1.00000000e+00  1.00000000e+00\n",
      "  1.00000000e+00 -3.33066907e-16  1.00000000e+00  1.00000000e+00\n",
      "  0.00000000e+00  1.00000000e+00 -4.44089210e-16 -1.11022302e-16\n",
      " -3.33066907e-16 -3.33066907e-16  0.00000000e+00 -5.55111512e-16\n",
      "  1.00000000e+00  1.00000000e+00  1.00000000e+00  1.00000000e+00\n",
      " -1.11022302e-16  1.00000000e+00  1.00000000e+00  1.00000000e+00\n",
      "  1.11022302e-16  1.00000000e+00  1.11022302e-16  1.00000000e+00\n",
      " -6.66133815e-16  1.00000000e+00  1.00000000e+00  1.00000000e+00\n",
      "  0.00000000e+00  1.00000000e+00  1.00000000e+00 -3.33066907e-16\n",
      "  1.00000000e+00  1.00000000e+00  1.11022302e-16 -2.22044605e-16\n",
      " -4.44089210e-16 -6.66133815e-16  1.00000000e+00  0.00000000e+00\n",
      " -3.33066907e-16 -4.44089210e-16 -5.55111512e-16 -2.22044605e-16\n",
      "  1.00000000e+00  1.00000000e+00  1.00000000e+00  1.00000000e+00\n",
      " -1.11022302e-15 -2.22044605e-16  1.00000000e+00 -3.33066907e-16\n",
      " -1.11022302e-16  1.00000000e+00 -3.33066907e-16  1.00000000e+00\n",
      " -1.11022302e-16 -3.33066907e-16  1.00000000e+00 -2.22044605e-16\n",
      "  1.00000000e+00 -5.55111512e-16  1.00000000e+00  1.00000000e+00\n",
      "  1.00000000e+00  1.00000000e+00  1.00000000e+00 -5.55111512e-16\n",
      "  1.00000000e+00  1.00000000e+00 -1.11022302e-16 -5.55111512e-16\n",
      "  1.00000000e+00  1.00000000e+00  1.00000000e+00  1.00000000e+00\n",
      " -2.22044605e-16 -5.55111512e-16  1.00000000e+00  1.11022302e-16\n",
      " -9.99200722e-16  1.00000000e+00  1.00000000e+00 -2.22044605e-16\n",
      " -1.11022302e-16  1.00000000e+00 -2.22044605e-16  1.00000000e+00\n",
      "  1.00000000e+00  1.00000000e+00  1.00000000e+00 -1.11022302e-16\n",
      "  1.00000000e+00  0.00000000e+00  1.00000000e+00 -1.11022302e-16\n",
      " -5.55111512e-16  1.00000000e+00  1.00000000e+00  1.00000000e+00\n",
      "  1.00000000e+00  1.00000000e+00 -3.33066907e-16  1.00000000e+00\n",
      "  1.00000000e+00  1.00000000e+00  1.00000000e+00  1.00000000e+00\n",
      " -1.11022302e-16 -3.33066907e-16  1.00000000e+00 -5.55111512e-16\n",
      "  2.22044605e-16  1.00000000e+00  1.00000000e+00  1.00000000e+00\n",
      " -4.44089210e-16  1.00000000e+00  1.00000000e+00  0.00000000e+00\n",
      "  1.00000000e+00  1.00000000e+00  1.00000000e+00  1.00000000e+00\n",
      "  1.00000000e+00 -3.33066907e-16  1.00000000e+00 -1.11022302e-16\n",
      "  1.00000000e+00  1.00000000e+00 -1.11022302e-16  1.00000000e+00\n",
      " -1.11022302e-16  1.00000000e+00  1.00000000e+00 -1.11022302e-16\n",
      " -1.11022302e-16  1.00000000e+00  0.00000000e+00  0.00000000e+00\n",
      "  1.00000000e+00  1.00000000e+00  1.00000000e+00  1.11022302e-16\n",
      "  1.00000000e+00  1.00000000e+00]\n",
      "9.759173801712552e-32 3.123967637750518e-16 2.36074895895569e-16 1.0\n"
     ]
    }
   ],
   "execution_count": 73
  },
  {
   "metadata": {
    "ExecuteTime": {
     "end_time": "2024-12-06T11:06:43.081346Z",
     "start_time": "2024-12-06T11:06:43.076673Z"
    }
   },
   "cell_type": "code",
   "source": [
    "y_test_pred = linear_reg.predict(X_test_scaled)\n",
    "\n",
    "mae = mean_absolute_error(Y_test,y_test_pred)\n",
    "r2 = r2_score(Y_test,y_test_pred)\n",
    "rmse = root_mean_squared_error(Y_test,y_test_pred)\n",
    "mse = mean_squared_error(Y_test,y_test_pred)\n",
    "\n",
    "print(y_test_pred.shape)\n",
    "print(mse,rmse,mae,r2)"
   ],
   "id": "f586673a14c44455",
   "outputs": [
    {
     "name": "stdout",
     "output_type": "stream",
     "text": [
      "(61,)\n",
      "9.497044709371812e-32 3.0817275527489143e-16 2.4388505786847703e-16 1.0\n"
     ]
    }
   ],
   "execution_count": 79
  },
  {
   "metadata": {},
   "cell_type": "markdown",
   "source": "## Lasso Regression",
   "id": "38fac146f7f8f9e4"
  },
  {
   "metadata": {
    "ExecuteTime": {
     "end_time": "2024-12-06T11:02:11.103272Z",
     "start_time": "2024-12-06T11:02:11.090923Z"
    }
   },
   "cell_type": "code",
   "source": [
    "from sklearn.linear_model import Lasso\n",
    "lasso = Lasso()\n",
    "lasso.fit(X_train_scaled,Y_train)\n",
    "y_pred = lasso.predict(X_train_scaled)\n",
    "mae = mean_absolute_error(Y_train,y_pred)\n",
    "r2 = r2_score(Y_train,y_pred)\n",
    "rmse = root_mean_squared_error(Y_train,y_pred)\n",
    "mse = mean_squared_error(Y_train,y_pred)\n",
    "print(y_pred)\n",
    "print(mae)\n",
    "print(r2)\n",
    "print(rmse)\n",
    "print(mse)"
   ],
   "id": "570041bc707feafa",
   "outputs": [
    {
     "name": "stdout",
     "output_type": "stream",
     "text": [
      "[0.56043956 0.56043956 0.56043956 0.56043956 0.56043956 0.56043956\n",
      " 0.56043956 0.56043956 0.56043956 0.56043956 0.56043956 0.56043956\n",
      " 0.56043956 0.56043956 0.56043956 0.56043956 0.56043956 0.56043956\n",
      " 0.56043956 0.56043956 0.56043956 0.56043956 0.56043956 0.56043956\n",
      " 0.56043956 0.56043956 0.56043956 0.56043956 0.56043956 0.56043956\n",
      " 0.56043956 0.56043956 0.56043956 0.56043956 0.56043956 0.56043956\n",
      " 0.56043956 0.56043956 0.56043956 0.56043956 0.56043956 0.56043956\n",
      " 0.56043956 0.56043956 0.56043956 0.56043956 0.56043956 0.56043956\n",
      " 0.56043956 0.56043956 0.56043956 0.56043956 0.56043956 0.56043956\n",
      " 0.56043956 0.56043956 0.56043956 0.56043956 0.56043956 0.56043956\n",
      " 0.56043956 0.56043956 0.56043956 0.56043956 0.56043956 0.56043956\n",
      " 0.56043956 0.56043956 0.56043956 0.56043956 0.56043956 0.56043956\n",
      " 0.56043956 0.56043956 0.56043956 0.56043956 0.56043956 0.56043956\n",
      " 0.56043956 0.56043956 0.56043956 0.56043956 0.56043956 0.56043956\n",
      " 0.56043956 0.56043956 0.56043956 0.56043956 0.56043956 0.56043956\n",
      " 0.56043956 0.56043956 0.56043956 0.56043956 0.56043956 0.56043956\n",
      " 0.56043956 0.56043956 0.56043956 0.56043956 0.56043956 0.56043956\n",
      " 0.56043956 0.56043956 0.56043956 0.56043956 0.56043956 0.56043956\n",
      " 0.56043956 0.56043956 0.56043956 0.56043956 0.56043956 0.56043956\n",
      " 0.56043956 0.56043956 0.56043956 0.56043956 0.56043956 0.56043956\n",
      " 0.56043956 0.56043956 0.56043956 0.56043956 0.56043956 0.56043956\n",
      " 0.56043956 0.56043956 0.56043956 0.56043956 0.56043956 0.56043956\n",
      " 0.56043956 0.56043956 0.56043956 0.56043956 0.56043956 0.56043956\n",
      " 0.56043956 0.56043956 0.56043956 0.56043956 0.56043956 0.56043956\n",
      " 0.56043956 0.56043956 0.56043956 0.56043956 0.56043956 0.56043956\n",
      " 0.56043956 0.56043956 0.56043956 0.56043956 0.56043956 0.56043956\n",
      " 0.56043956 0.56043956 0.56043956 0.56043956 0.56043956 0.56043956\n",
      " 0.56043956 0.56043956 0.56043956 0.56043956 0.56043956 0.56043956\n",
      " 0.56043956 0.56043956 0.56043956 0.56043956 0.56043956 0.56043956\n",
      " 0.56043956 0.56043956 0.56043956 0.56043956 0.56043956 0.56043956\n",
      " 0.56043956 0.56043956]\n",
      "0.4926941190677454\n",
      "0.0\n",
      "0.4963336171708225\n",
      "0.24634705953387262\n"
     ]
    }
   ],
   "execution_count": 74
  },
  {
   "metadata": {
    "ExecuteTime": {
     "end_time": "2024-12-06T11:04:04.258214Z",
     "start_time": "2024-12-06T11:04:04.249712Z"
    }
   },
   "cell_type": "code",
   "source": [
    "y_test_pred = lasso.predict(X_test_scaled)\n",
    "mae = mean_absolute_error(Y_test,y_test_pred)\n",
    "r2 = r2_score(Y_test,y_test_pred)\n",
    "rmse = root_mean_squared_error(Y_test,y_test_pred)\n",
    "mse = mean_squared_error(Y_test,y_test_pred)\n",
    "print(y_pred)\n",
    "print(mae)\n",
    "print(r2)\n",
    "print(rmse)\n",
    "print(mse)"
   ],
   "id": "fec0ff2503b5e0a",
   "outputs": [
    {
     "name": "stdout",
     "output_type": "stream",
     "text": [
      "[0.56043956 0.56043956 0.56043956 0.56043956 0.56043956 0.56043956\n",
      " 0.56043956 0.56043956 0.56043956 0.56043956 0.56043956 0.56043956\n",
      " 0.56043956 0.56043956 0.56043956 0.56043956 0.56043956 0.56043956\n",
      " 0.56043956 0.56043956 0.56043956 0.56043956 0.56043956 0.56043956\n",
      " 0.56043956 0.56043956 0.56043956 0.56043956 0.56043956 0.56043956\n",
      " 0.56043956 0.56043956 0.56043956 0.56043956 0.56043956 0.56043956\n",
      " 0.56043956 0.56043956 0.56043956 0.56043956 0.56043956 0.56043956\n",
      " 0.56043956 0.56043956 0.56043956 0.56043956 0.56043956 0.56043956\n",
      " 0.56043956 0.56043956 0.56043956 0.56043956 0.56043956 0.56043956\n",
      " 0.56043956 0.56043956 0.56043956 0.56043956 0.56043956 0.56043956\n",
      " 0.56043956 0.56043956 0.56043956 0.56043956 0.56043956 0.56043956\n",
      " 0.56043956 0.56043956 0.56043956 0.56043956 0.56043956 0.56043956\n",
      " 0.56043956 0.56043956 0.56043956 0.56043956 0.56043956 0.56043956\n",
      " 0.56043956 0.56043956 0.56043956 0.56043956 0.56043956 0.56043956\n",
      " 0.56043956 0.56043956 0.56043956 0.56043956 0.56043956 0.56043956\n",
      " 0.56043956 0.56043956 0.56043956 0.56043956 0.56043956 0.56043956\n",
      " 0.56043956 0.56043956 0.56043956 0.56043956 0.56043956 0.56043956\n",
      " 0.56043956 0.56043956 0.56043956 0.56043956 0.56043956 0.56043956\n",
      " 0.56043956 0.56043956 0.56043956 0.56043956 0.56043956 0.56043956\n",
      " 0.56043956 0.56043956 0.56043956 0.56043956 0.56043956 0.56043956\n",
      " 0.56043956 0.56043956 0.56043956 0.56043956 0.56043956 0.56043956\n",
      " 0.56043956 0.56043956 0.56043956 0.56043956 0.56043956 0.56043956\n",
      " 0.56043956 0.56043956 0.56043956 0.56043956 0.56043956 0.56043956\n",
      " 0.56043956 0.56043956 0.56043956 0.56043956 0.56043956 0.56043956\n",
      " 0.56043956 0.56043956 0.56043956 0.56043956 0.56043956 0.56043956\n",
      " 0.56043956 0.56043956 0.56043956 0.56043956 0.56043956 0.56043956\n",
      " 0.56043956 0.56043956 0.56043956 0.56043956 0.56043956 0.56043956\n",
      " 0.56043956 0.56043956 0.56043956 0.56043956 0.56043956 0.56043956\n",
      " 0.56043956 0.56043956 0.56043956 0.56043956 0.56043956 0.56043956\n",
      " 0.56043956 0.56043956 0.56043956 0.56043956 0.56043956 0.56043956\n",
      " 0.56043956 0.56043956]\n",
      "0.49108268780399916\n",
      "-0.0007266733990558549\n",
      "0.4947076189731936\n",
      "0.24473562827012652\n"
     ]
    }
   ],
   "execution_count": 75
  },
  {
   "metadata": {},
   "cell_type": "markdown",
   "source": "# Ridge Regression Model",
   "id": "f93a03baa189c0f8"
  },
  {
   "metadata": {
    "ExecuteTime": {
     "end_time": "2024-12-06T11:08:00.319542Z",
     "start_time": "2024-12-06T11:08:00.304025Z"
    }
   },
   "cell_type": "code",
   "source": [
    "from sklearn.linear_model import Ridge\n",
    "ridge = Ridge()\n",
    "ridge.fit(X_train_scaled,Y_train)\n",
    "y_test_pred = ridge.predict(X_test_scaled)\n",
    "\n",
    "mae = mean_absolute_error(Y_test,y_test_pred)\n",
    "r2 = r2_score(Y_test,y_test_pred)\n",
    "rmse = root_mean_squared_error(Y_test,y_test_pred)\n",
    "mse = mean_squared_error(Y_test,y_test_pred)\n",
    "\n",
    "print(y_test_pred.shape)\n",
    "print(mse)\n",
    "print(mae)\n",
    "print(r2)\n",
    "print(rmse)"
   ],
   "id": "c755eb8636c029fd",
   "outputs": [
    {
     "name": "stdout",
     "output_type": "stream",
     "text": [
      "(61,)\n",
      "3.400668688988304e-05\n",
      "0.004694735020247031\n",
      "0.9998609462836074\n",
      "0.00583152526273213\n"
     ]
    }
   ],
   "execution_count": 80
  },
  {
   "metadata": {},
   "cell_type": "markdown",
   "source": "# Elasticnet Regression Model",
   "id": "26544bbd9b0fd313"
  },
  {
   "metadata": {
    "ExecuteTime": {
     "end_time": "2024-12-06T11:10:58.487809Z",
     "start_time": "2024-12-06T11:10:58.482470Z"
    }
   },
   "cell_type": "code",
   "source": [
    "from sklearn.linear_model import ElasticNet\n",
    "elastic_net = ElasticNet()\n",
    "elastic_net.fit(X_train_scaled,Y_train)\n",
    "y_test_pred = elastic_net.predict(X_test_scaled)\n",
    "mae = mean_absolute_error(Y_test,y_test_pred)\n",
    "r2 = r2_score(Y_test,y_test_pred)\n",
    "rmse = root_mean_squared_error(Y_test,y_test_pred)\n",
    "mse = mean_squared_error(Y_test,y_test_pred)\n",
    "print(y_test_pred.shape)\n",
    "print(mse)\n",
    "print(mae)\n",
    "print(r2)\n",
    "print(rmse)"
   ],
   "id": "76cbe200e1650f8e",
   "outputs": [
    {
     "name": "stdout",
     "output_type": "stream",
     "text": [
      "(61,)\n",
      "0.24473562827012652\n",
      "0.49108268780399916\n",
      "-0.0007266733990558549\n",
      "0.4947076189731936\n"
     ]
    }
   ],
   "execution_count": 82
  },
  {
   "metadata": {
    "ExecuteTime": {
     "end_time": "2024-12-06T11:14:39.866326Z",
     "start_time": "2024-12-06T11:14:39.859396Z"
    }
   },
   "cell_type": "code",
   "source": [
    "import pickle\n",
    "pickle.dump(scaler,open('scalerForest.pkl','wb'))\n",
    "pickle.dump(ridge,open('ridgeForest.pkl','wb'))"
   ],
   "id": "adcf792d9adde486",
   "outputs": [],
   "execution_count": 83
  },
  {
   "metadata": {
    "ExecuteTime": {
     "end_time": "2024-12-06T11:15:17.768944Z",
     "start_time": "2024-12-06T11:15:17.757689Z"
    }
   },
   "cell_type": "code",
   "source": "",
   "id": "b2183f05e553b811",
   "outputs": [
    {
     "ename": "TypeError",
     "evalue": "file must have 'read' and 'readline' attributes",
     "output_type": "error",
     "traceback": [
      "\u001B[1;31m---------------------------------------------------------------------------\u001B[0m",
      "\u001B[1;31mTypeError\u001B[0m                                 Traceback (most recent call last)",
      "Cell \u001B[1;32mIn[84], line 1\u001B[0m\n\u001B[1;32m----> 1\u001B[0m pickle\u001B[38;5;241m.\u001B[39mload(\u001B[38;5;124m'\u001B[39m\u001B[38;5;124mscalerForest.pkl\u001B[39m\u001B[38;5;124m'\u001B[39m)\n",
      "\u001B[1;31mTypeError\u001B[0m: file must have 'read' and 'readline' attributes"
     ]
    }
   ],
   "execution_count": 84
  },
  {
   "metadata": {},
   "cell_type": "code",
   "outputs": [],
   "execution_count": null,
   "source": "",
   "id": "c81da8cd735838cc"
  }
 ],
 "metadata": {
  "kernelspec": {
   "display_name": "Python 3",
   "language": "python",
   "name": "python3"
  },
  "language_info": {
   "codemirror_mode": {
    "name": "ipython",
    "version": 2
   },
   "file_extension": ".py",
   "mimetype": "text/x-python",
   "name": "python",
   "nbconvert_exporter": "python",
   "pygments_lexer": "ipython2",
   "version": "2.7.6"
  }
 },
 "nbformat": 4,
 "nbformat_minor": 5
}
